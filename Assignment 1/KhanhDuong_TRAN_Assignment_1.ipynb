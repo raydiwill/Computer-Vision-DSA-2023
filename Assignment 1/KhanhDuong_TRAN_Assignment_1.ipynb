{
 "cells": [
  {
   "cell_type": "markdown",
   "source": [
    "# <center> Assignment 01: Basic to Complex Image classification <br> <br> <small>14 december 2023</small> </center>\n",
    "\n",
    "The goal of this assignment is :\n",
    "\n",
    "    - Classify digits and dog breed from two kaggle datasets.\n",
    "    - Try to implement a linear and a non-linear model.\n",
    "    - Compare the accuracies between models in each task.\n"
   ],
   "metadata": {
    "collapsed": false
   }
  },
  {
   "cell_type": "markdown",
   "source": [
    "## Import libraries"
   ],
   "metadata": {
    "collapsed": false
   }
  },
  {
   "cell_type": "code",
   "execution_count": 161,
   "outputs": [],
   "source": [
    "from sklearn.neighbors import KNeighborsClassifier\n",
    "from sklearn.model_selection import train_test_split\n",
    "from sklearn.metrics import classification_report, accuracy_score\n",
    "from tensorflow.keras.models import Sequential, Model\n",
    "from tensorflow.keras.layers import Dense, Flatten, Conv2D, MaxPooling2D, Lambda, Dropout, Input\n",
    "from keras.applications.inception_v3 import InceptionV3, preprocess_input as inception_preprocess\n",
    "from tensorflow.python.keras.callbacks import EarlyStopping\n",
    "from keras.preprocessing.image import load_img, img_to_array\n",
    "from sklearn.preprocessing import LabelBinarizer\n",
    "from keras.utils import to_categorical\n",
    "from tqdm import tqdm\n",
    "import pandas as pd\n",
    "import matplotlib.pyplot as plt\n",
    "import numpy as np\n",
    "import os\n",
    "import warnings\n",
    "warnings.filterwarnings('ignore')"
   ],
   "metadata": {
    "collapsed": false,
    "ExecuteTime": {
     "end_time": "2023-12-14T16:59:17.052044Z",
     "start_time": "2023-12-14T16:59:17.051725Z"
    }
   }
  },
  {
   "cell_type": "markdown",
   "source": [
    "# Digit regconizer\n",
    "\n",
    "**Task:** Classify grey-scale hand-written digits from 0 to 9. The images are 28 x 28 pixels. The training dataset is in csv format, has 42000 records with 784 features from pixel0 to pixel783.\n",
    "\n",
    "The strategy is to implement the linear model of K-Nearest Neighbors while the non-linear model is a CNN layers."
   ],
   "metadata": {
    "collapsed": false
   }
  },
  {
   "cell_type": "markdown",
   "source": [
    "## Data import"
   ],
   "metadata": {
    "collapsed": false
   }
  },
  {
   "cell_type": "code",
   "execution_count": 112,
   "outputs": [],
   "source": [
    "# Load both train and test sets\n",
    "train_master = pd.read_csv(\"../Assignment 1/digit-recognizer/train.csv\")\n",
    "test_master = pd.read_csv(\"../Assignment 1/digit-recognizer/test.csv\")\n",
    "\n",
    "train = train_master.copy().drop(\"label\", axis=1)\n",
    "label = train_master.label\n",
    "test = test_master.copy()"
   ],
   "metadata": {
    "collapsed": false,
    "ExecuteTime": {
     "end_time": "2023-12-14T16:11:44.721794Z",
     "start_time": "2023-12-14T16:11:42.955041Z"
    }
   }
  },
  {
   "cell_type": "code",
   "execution_count": 113,
   "outputs": [
    {
     "name": "stdout",
     "output_type": "stream",
     "text": [
      "(42000, 784)\n",
      "(42000,)\n",
      "(28000, 784)\n"
     ]
    }
   ],
   "source": [
    "print(train.shape)\n",
    "print(label.shape)\n",
    "print(test.shape)"
   ],
   "metadata": {
    "collapsed": false,
    "ExecuteTime": {
     "end_time": "2023-12-14T16:11:44.725179Z",
     "start_time": "2023-12-14T16:11:44.723432Z"
    }
   }
  },
  {
   "cell_type": "code",
   "execution_count": 114,
   "outputs": [
    {
     "data": {
      "text/plain": "   pixel0  pixel1  pixel2  pixel3  pixel4  pixel5  pixel6  pixel7  pixel8  \\\n0       0       0       0       0       0       0       0       0       0   \n1       0       0       0       0       0       0       0       0       0   \n2       0       0       0       0       0       0       0       0       0   \n3       0       0       0       0       0       0       0       0       0   \n4       0       0       0       0       0       0       0       0       0   \n\n   pixel9  ...  pixel774  pixel775  pixel776  pixel777  pixel778  pixel779  \\\n0       0  ...         0         0         0         0         0         0   \n1       0  ...         0         0         0         0         0         0   \n2       0  ...         0         0         0         0         0         0   \n3       0  ...         0         0         0         0         0         0   \n4       0  ...         0         0         0         0         0         0   \n\n   pixel780  pixel781  pixel782  pixel783  \n0         0         0         0         0  \n1         0         0         0         0  \n2         0         0         0         0  \n3         0         0         0         0  \n4         0         0         0         0  \n\n[5 rows x 784 columns]",
      "text/html": "<div>\n<style scoped>\n    .dataframe tbody tr th:only-of-type {\n        vertical-align: middle;\n    }\n\n    .dataframe tbody tr th {\n        vertical-align: top;\n    }\n\n    .dataframe thead th {\n        text-align: right;\n    }\n</style>\n<table border=\"1\" class=\"dataframe\">\n  <thead>\n    <tr style=\"text-align: right;\">\n      <th></th>\n      <th>pixel0</th>\n      <th>pixel1</th>\n      <th>pixel2</th>\n      <th>pixel3</th>\n      <th>pixel4</th>\n      <th>pixel5</th>\n      <th>pixel6</th>\n      <th>pixel7</th>\n      <th>pixel8</th>\n      <th>pixel9</th>\n      <th>...</th>\n      <th>pixel774</th>\n      <th>pixel775</th>\n      <th>pixel776</th>\n      <th>pixel777</th>\n      <th>pixel778</th>\n      <th>pixel779</th>\n      <th>pixel780</th>\n      <th>pixel781</th>\n      <th>pixel782</th>\n      <th>pixel783</th>\n    </tr>\n  </thead>\n  <tbody>\n    <tr>\n      <th>0</th>\n      <td>0</td>\n      <td>0</td>\n      <td>0</td>\n      <td>0</td>\n      <td>0</td>\n      <td>0</td>\n      <td>0</td>\n      <td>0</td>\n      <td>0</td>\n      <td>0</td>\n      <td>...</td>\n      <td>0</td>\n      <td>0</td>\n      <td>0</td>\n      <td>0</td>\n      <td>0</td>\n      <td>0</td>\n      <td>0</td>\n      <td>0</td>\n      <td>0</td>\n      <td>0</td>\n    </tr>\n    <tr>\n      <th>1</th>\n      <td>0</td>\n      <td>0</td>\n      <td>0</td>\n      <td>0</td>\n      <td>0</td>\n      <td>0</td>\n      <td>0</td>\n      <td>0</td>\n      <td>0</td>\n      <td>0</td>\n      <td>...</td>\n      <td>0</td>\n      <td>0</td>\n      <td>0</td>\n      <td>0</td>\n      <td>0</td>\n      <td>0</td>\n      <td>0</td>\n      <td>0</td>\n      <td>0</td>\n      <td>0</td>\n    </tr>\n    <tr>\n      <th>2</th>\n      <td>0</td>\n      <td>0</td>\n      <td>0</td>\n      <td>0</td>\n      <td>0</td>\n      <td>0</td>\n      <td>0</td>\n      <td>0</td>\n      <td>0</td>\n      <td>0</td>\n      <td>...</td>\n      <td>0</td>\n      <td>0</td>\n      <td>0</td>\n      <td>0</td>\n      <td>0</td>\n      <td>0</td>\n      <td>0</td>\n      <td>0</td>\n      <td>0</td>\n      <td>0</td>\n    </tr>\n    <tr>\n      <th>3</th>\n      <td>0</td>\n      <td>0</td>\n      <td>0</td>\n      <td>0</td>\n      <td>0</td>\n      <td>0</td>\n      <td>0</td>\n      <td>0</td>\n      <td>0</td>\n      <td>0</td>\n      <td>...</td>\n      <td>0</td>\n      <td>0</td>\n      <td>0</td>\n      <td>0</td>\n      <td>0</td>\n      <td>0</td>\n      <td>0</td>\n      <td>0</td>\n      <td>0</td>\n      <td>0</td>\n    </tr>\n    <tr>\n      <th>4</th>\n      <td>0</td>\n      <td>0</td>\n      <td>0</td>\n      <td>0</td>\n      <td>0</td>\n      <td>0</td>\n      <td>0</td>\n      <td>0</td>\n      <td>0</td>\n      <td>0</td>\n      <td>...</td>\n      <td>0</td>\n      <td>0</td>\n      <td>0</td>\n      <td>0</td>\n      <td>0</td>\n      <td>0</td>\n      <td>0</td>\n      <td>0</td>\n      <td>0</td>\n      <td>0</td>\n    </tr>\n  </tbody>\n</table>\n<p>5 rows × 784 columns</p>\n</div>"
     },
     "execution_count": 114,
     "metadata": {},
     "output_type": "execute_result"
    }
   ],
   "source": [
    "# Inspect a few rows\n",
    "train.head()"
   ],
   "metadata": {
    "collapsed": false,
    "ExecuteTime": {
     "end_time": "2023-12-14T16:11:44.738109Z",
     "start_time": "2023-12-14T16:11:44.733692Z"
    }
   }
  },
  {
   "cell_type": "code",
   "execution_count": 115,
   "outputs": [
    {
     "data": {
      "text/plain": "   pixel0  pixel1  pixel2  pixel3  pixel4  pixel5  pixel6  pixel7  pixel8  \\\n0       0       0       0       0       0       0       0       0       0   \n1       0       0       0       0       0       0       0       0       0   \n2       0       0       0       0       0       0       0       0       0   \n3       0       0       0       0       0       0       0       0       0   \n4       0       0       0       0       0       0       0       0       0   \n\n   pixel9  ...  pixel774  pixel775  pixel776  pixel777  pixel778  pixel779  \\\n0       0  ...         0         0         0         0         0         0   \n1       0  ...         0         0         0         0         0         0   \n2       0  ...         0         0         0         0         0         0   \n3       0  ...         0         0         0         0         0         0   \n4       0  ...         0         0         0         0         0         0   \n\n   pixel780  pixel781  pixel782  pixel783  \n0         0         0         0         0  \n1         0         0         0         0  \n2         0         0         0         0  \n3         0         0         0         0  \n4         0         0         0         0  \n\n[5 rows x 784 columns]",
      "text/html": "<div>\n<style scoped>\n    .dataframe tbody tr th:only-of-type {\n        vertical-align: middle;\n    }\n\n    .dataframe tbody tr th {\n        vertical-align: top;\n    }\n\n    .dataframe thead th {\n        text-align: right;\n    }\n</style>\n<table border=\"1\" class=\"dataframe\">\n  <thead>\n    <tr style=\"text-align: right;\">\n      <th></th>\n      <th>pixel0</th>\n      <th>pixel1</th>\n      <th>pixel2</th>\n      <th>pixel3</th>\n      <th>pixel4</th>\n      <th>pixel5</th>\n      <th>pixel6</th>\n      <th>pixel7</th>\n      <th>pixel8</th>\n      <th>pixel9</th>\n      <th>...</th>\n      <th>pixel774</th>\n      <th>pixel775</th>\n      <th>pixel776</th>\n      <th>pixel777</th>\n      <th>pixel778</th>\n      <th>pixel779</th>\n      <th>pixel780</th>\n      <th>pixel781</th>\n      <th>pixel782</th>\n      <th>pixel783</th>\n    </tr>\n  </thead>\n  <tbody>\n    <tr>\n      <th>0</th>\n      <td>0</td>\n      <td>0</td>\n      <td>0</td>\n      <td>0</td>\n      <td>0</td>\n      <td>0</td>\n      <td>0</td>\n      <td>0</td>\n      <td>0</td>\n      <td>0</td>\n      <td>...</td>\n      <td>0</td>\n      <td>0</td>\n      <td>0</td>\n      <td>0</td>\n      <td>0</td>\n      <td>0</td>\n      <td>0</td>\n      <td>0</td>\n      <td>0</td>\n      <td>0</td>\n    </tr>\n    <tr>\n      <th>1</th>\n      <td>0</td>\n      <td>0</td>\n      <td>0</td>\n      <td>0</td>\n      <td>0</td>\n      <td>0</td>\n      <td>0</td>\n      <td>0</td>\n      <td>0</td>\n      <td>0</td>\n      <td>...</td>\n      <td>0</td>\n      <td>0</td>\n      <td>0</td>\n      <td>0</td>\n      <td>0</td>\n      <td>0</td>\n      <td>0</td>\n      <td>0</td>\n      <td>0</td>\n      <td>0</td>\n    </tr>\n    <tr>\n      <th>2</th>\n      <td>0</td>\n      <td>0</td>\n      <td>0</td>\n      <td>0</td>\n      <td>0</td>\n      <td>0</td>\n      <td>0</td>\n      <td>0</td>\n      <td>0</td>\n      <td>0</td>\n      <td>...</td>\n      <td>0</td>\n      <td>0</td>\n      <td>0</td>\n      <td>0</td>\n      <td>0</td>\n      <td>0</td>\n      <td>0</td>\n      <td>0</td>\n      <td>0</td>\n      <td>0</td>\n    </tr>\n    <tr>\n      <th>3</th>\n      <td>0</td>\n      <td>0</td>\n      <td>0</td>\n      <td>0</td>\n      <td>0</td>\n      <td>0</td>\n      <td>0</td>\n      <td>0</td>\n      <td>0</td>\n      <td>0</td>\n      <td>...</td>\n      <td>0</td>\n      <td>0</td>\n      <td>0</td>\n      <td>0</td>\n      <td>0</td>\n      <td>0</td>\n      <td>0</td>\n      <td>0</td>\n      <td>0</td>\n      <td>0</td>\n    </tr>\n    <tr>\n      <th>4</th>\n      <td>0</td>\n      <td>0</td>\n      <td>0</td>\n      <td>0</td>\n      <td>0</td>\n      <td>0</td>\n      <td>0</td>\n      <td>0</td>\n      <td>0</td>\n      <td>0</td>\n      <td>...</td>\n      <td>0</td>\n      <td>0</td>\n      <td>0</td>\n      <td>0</td>\n      <td>0</td>\n      <td>0</td>\n      <td>0</td>\n      <td>0</td>\n      <td>0</td>\n      <td>0</td>\n    </tr>\n  </tbody>\n</table>\n<p>5 rows × 784 columns</p>\n</div>"
     },
     "execution_count": 115,
     "metadata": {},
     "output_type": "execute_result"
    }
   ],
   "source": [
    "# Inspect test set to be predicted later\n",
    "test.head()"
   ],
   "metadata": {
    "collapsed": false,
    "ExecuteTime": {
     "end_time": "2023-12-14T16:11:44.773559Z",
     "start_time": "2023-12-14T16:11:44.741376Z"
    }
   }
  },
  {
   "cell_type": "markdown",
   "source": [
    "## Splitting data"
   ],
   "metadata": {
    "collapsed": false
   }
  },
  {
   "cell_type": "code",
   "execution_count": 116,
   "outputs": [
    {
     "name": "stdout",
     "output_type": "stream",
     "text": [
      "(33600, 784)\n",
      "(8400, 784)\n"
     ]
    }
   ],
   "source": [
    "X_train, X_test, y_train, y_test = train_test_split(train, label, test_size=0.2, random_state=42)\n",
    "print(X_train.shape)\n",
    "print(X_test.shape)"
   ],
   "metadata": {
    "collapsed": false,
    "ExecuteTime": {
     "end_time": "2023-12-14T16:11:45.066830Z",
     "start_time": "2023-12-14T16:11:44.747709Z"
    }
   }
  },
  {
   "cell_type": "markdown",
   "source": [
    "## Traditional Machine learning"
   ],
   "metadata": {
    "collapsed": false
   }
  },
  {
   "cell_type": "code",
   "execution_count": 117,
   "outputs": [
    {
     "data": {
      "text/plain": "KNeighborsClassifier(n_neighbors=1)",
      "text/html": "<style>#sk-container-id-1 {color: black;}#sk-container-id-1 pre{padding: 0;}#sk-container-id-1 div.sk-toggleable {background-color: white;}#sk-container-id-1 label.sk-toggleable__label {cursor: pointer;display: block;width: 100%;margin-bottom: 0;padding: 0.3em;box-sizing: border-box;text-align: center;}#sk-container-id-1 label.sk-toggleable__label-arrow:before {content: \"▸\";float: left;margin-right: 0.25em;color: #696969;}#sk-container-id-1 label.sk-toggleable__label-arrow:hover:before {color: black;}#sk-container-id-1 div.sk-estimator:hover label.sk-toggleable__label-arrow:before {color: black;}#sk-container-id-1 div.sk-toggleable__content {max-height: 0;max-width: 0;overflow: hidden;text-align: left;background-color: #f0f8ff;}#sk-container-id-1 div.sk-toggleable__content pre {margin: 0.2em;color: black;border-radius: 0.25em;background-color: #f0f8ff;}#sk-container-id-1 input.sk-toggleable__control:checked~div.sk-toggleable__content {max-height: 200px;max-width: 100%;overflow: auto;}#sk-container-id-1 input.sk-toggleable__control:checked~label.sk-toggleable__label-arrow:before {content: \"▾\";}#sk-container-id-1 div.sk-estimator input.sk-toggleable__control:checked~label.sk-toggleable__label {background-color: #d4ebff;}#sk-container-id-1 div.sk-label input.sk-toggleable__control:checked~label.sk-toggleable__label {background-color: #d4ebff;}#sk-container-id-1 input.sk-hidden--visually {border: 0;clip: rect(1px 1px 1px 1px);clip: rect(1px, 1px, 1px, 1px);height: 1px;margin: -1px;overflow: hidden;padding: 0;position: absolute;width: 1px;}#sk-container-id-1 div.sk-estimator {font-family: monospace;background-color: #f0f8ff;border: 1px dotted black;border-radius: 0.25em;box-sizing: border-box;margin-bottom: 0.5em;}#sk-container-id-1 div.sk-estimator:hover {background-color: #d4ebff;}#sk-container-id-1 div.sk-parallel-item::after {content: \"\";width: 100%;border-bottom: 1px solid gray;flex-grow: 1;}#sk-container-id-1 div.sk-label:hover label.sk-toggleable__label {background-color: #d4ebff;}#sk-container-id-1 div.sk-serial::before {content: \"\";position: absolute;border-left: 1px solid gray;box-sizing: border-box;top: 0;bottom: 0;left: 50%;z-index: 0;}#sk-container-id-1 div.sk-serial {display: flex;flex-direction: column;align-items: center;background-color: white;padding-right: 0.2em;padding-left: 0.2em;position: relative;}#sk-container-id-1 div.sk-item {position: relative;z-index: 1;}#sk-container-id-1 div.sk-parallel {display: flex;align-items: stretch;justify-content: center;background-color: white;position: relative;}#sk-container-id-1 div.sk-item::before, #sk-container-id-1 div.sk-parallel-item::before {content: \"\";position: absolute;border-left: 1px solid gray;box-sizing: border-box;top: 0;bottom: 0;left: 50%;z-index: -1;}#sk-container-id-1 div.sk-parallel-item {display: flex;flex-direction: column;z-index: 1;position: relative;background-color: white;}#sk-container-id-1 div.sk-parallel-item:first-child::after {align-self: flex-end;width: 50%;}#sk-container-id-1 div.sk-parallel-item:last-child::after {align-self: flex-start;width: 50%;}#sk-container-id-1 div.sk-parallel-item:only-child::after {width: 0;}#sk-container-id-1 div.sk-dashed-wrapped {border: 1px dashed gray;margin: 0 0.4em 0.5em 0.4em;box-sizing: border-box;padding-bottom: 0.4em;background-color: white;}#sk-container-id-1 div.sk-label label {font-family: monospace;font-weight: bold;display: inline-block;line-height: 1.2em;}#sk-container-id-1 div.sk-label-container {text-align: center;}#sk-container-id-1 div.sk-container {/* jupyter's `normalize.less` sets `[hidden] { display: none; }` but bootstrap.min.css set `[hidden] { display: none !important; }` so we also need the `!important` here to be able to override the default hidden behavior on the sphinx rendered scikit-learn.org. See: https://github.com/scikit-learn/scikit-learn/issues/21755 */display: inline-block !important;position: relative;}#sk-container-id-1 div.sk-text-repr-fallback {display: none;}</style><div id=\"sk-container-id-1\" class=\"sk-top-container\"><div class=\"sk-text-repr-fallback\"><pre>KNeighborsClassifier(n_neighbors=1)</pre><b>In a Jupyter environment, please rerun this cell to show the HTML representation or trust the notebook. <br />On GitHub, the HTML representation is unable to render, please try loading this page with nbviewer.org.</b></div><div class=\"sk-container\" hidden><div class=\"sk-item\"><div class=\"sk-estimator sk-toggleable\"><input class=\"sk-toggleable__control sk-hidden--visually\" id=\"sk-estimator-id-1\" type=\"checkbox\" checked><label for=\"sk-estimator-id-1\" class=\"sk-toggleable__label sk-toggleable__label-arrow\">KNeighborsClassifier</label><div class=\"sk-toggleable__content\"><pre>KNeighborsClassifier(n_neighbors=1)</pre></div></div></div></div></div>"
     },
     "execution_count": 117,
     "metadata": {},
     "output_type": "execute_result"
    }
   ],
   "source": [
    "# K as 1 is enough\n",
    "knn = KNeighborsClassifier(n_neighbors=1)\n",
    "knn.fit(X_train, y_train)"
   ],
   "metadata": {
    "collapsed": false,
    "ExecuteTime": {
     "end_time": "2023-12-14T16:11:45.248730Z",
     "start_time": "2023-12-14T16:11:44.939191Z"
    }
   }
  },
  {
   "cell_type": "code",
   "execution_count": 118,
   "outputs": [
    {
     "data": {
      "text/plain": "array([8, 1, 9, ..., 3, 0, 9])"
     },
     "execution_count": 118,
     "metadata": {},
     "output_type": "execute_result"
    }
   ],
   "source": [
    "# Test\n",
    "y_pred = knn.predict(X_test.to_numpy())\n",
    "y_pred"
   ],
   "metadata": {
    "collapsed": false,
    "ExecuteTime": {
     "end_time": "2023-12-14T16:11:51.723297Z",
     "start_time": "2023-12-14T16:11:45.106576Z"
    }
   }
  },
  {
   "cell_type": "markdown",
   "source": [
    "### Evaluation"
   ],
   "metadata": {
    "collapsed": false
   }
  },
  {
   "cell_type": "code",
   "execution_count": 119,
   "outputs": [
    {
     "name": "stdout",
     "output_type": "stream",
     "text": [
      "              precision    recall  f1-score   support\n",
      "\n",
      "           0       0.98      0.99      0.99       816\n",
      "           1       0.97      1.00      0.98       909\n",
      "           2       0.98      0.95      0.97       846\n",
      "           3       0.97      0.96      0.96       937\n",
      "           4       0.98      0.97      0.97       839\n",
      "           5       0.96      0.96      0.96       702\n",
      "           6       0.98      0.99      0.98       785\n",
      "           7       0.96      0.97      0.96       893\n",
      "           8       0.98      0.94      0.96       835\n",
      "           9       0.94      0.96      0.95       838\n",
      "\n",
      "    accuracy                           0.97      8400\n",
      "   macro avg       0.97      0.97      0.97      8400\n",
      "weighted avg       0.97      0.97      0.97      8400\n",
      "\n"
     ]
    }
   ],
   "source": [
    "print(classification_report(y_test, y_pred))"
   ],
   "metadata": {
    "collapsed": false,
    "ExecuteTime": {
     "end_time": "2023-12-14T16:11:51.740283Z",
     "start_time": "2023-12-14T16:11:51.724237Z"
    }
   }
  },
  {
   "cell_type": "markdown",
   "source": [
    "> Comment: The KNN model performed quite well with an accuracy of 97%. This shalls be the baseline to compare the CNN model with."
   ],
   "metadata": {
    "collapsed": false
   }
  },
  {
   "cell_type": "markdown",
   "source": [
    "### Test model"
   ],
   "metadata": {
    "collapsed": false
   }
  },
  {
   "cell_type": "code",
   "execution_count": 120,
   "outputs": [],
   "source": [
    "test_predict = knn.predict(test.to_numpy())"
   ],
   "metadata": {
    "collapsed": false,
    "ExecuteTime": {
     "end_time": "2023-12-14T16:12:10.701326Z",
     "start_time": "2023-12-14T16:11:51.741543Z"
    }
   }
  },
  {
   "cell_type": "code",
   "execution_count": 121,
   "outputs": [
    {
     "name": "stdout",
     "output_type": "stream",
     "text": [
      "The digit is 4\n"
     ]
    },
    {
     "data": {
      "text/plain": "<Figure size 640x480 with 1 Axes>",
      "image/png": "[encoded data removed]"
     },
     "metadata": {},
     "output_type": "display_data"
    }
   ],
   "source": [
    "plt.imshow(test.iloc[1200].values.reshape(28, 28), cmap=\"gray\")\n",
    "print(f'The digit is {test_predict[1200]}')"
   ],
   "metadata": {
    "collapsed": false,
    "ExecuteTime": {
     "end_time": "2023-12-14T16:12:11.018323Z",
     "start_time": "2023-12-14T16:12:10.709828Z"
    }
   }
  },
  {
   "cell_type": "code",
   "execution_count": 122,
   "outputs": [
    {
     "name": "stdout",
     "output_type": "stream",
     "text": [
      "The digit is 1\n"
     ]
    },
    {
     "data": {
      "text/plain": "<Figure size 640x480 with 1 Axes>",
      "image/png": "[encoded data removed]"
     },
     "metadata": {},
     "output_type": "display_data"
    }
   ],
   "source": [
    "plt.imshow(test.iloc[5000].values.reshape(28, 28), cmap=\"gray\")\n",
    "print(f'The digit is {test_predict[5000]}')"
   ],
   "metadata": {
    "collapsed": false,
    "ExecuteTime": {
     "end_time": "2023-12-14T16:12:11.124579Z",
     "start_time": "2023-12-14T16:12:11.020883Z"
    }
   }
  },
  {
   "cell_type": "markdown",
   "source": [
    "> We can clearly see the linear model is able to detect digits quite well when we try a couple of examples."
   ],
   "metadata": {
    "collapsed": false
   }
  },
  {
   "cell_type": "markdown",
   "source": [
    "## CNN"
   ],
   "metadata": {
    "collapsed": false
   }
  },
  {
   "cell_type": "markdown",
   "source": [
    "### Processing data\n",
    "\n",
    "In building the CNN, it is a good idea to normalize the data and convert the label with one hot encoder."
   ],
   "metadata": {
    "collapsed": false
   }
  },
  {
   "cell_type": "code",
   "execution_count": 123,
   "outputs": [],
   "source": [
    "X_train_norm = X_train / 255\n",
    "X_test_norm = X_test / 255"
   ],
   "metadata": {
    "collapsed": false,
    "ExecuteTime": {
     "end_time": "2023-12-14T16:12:11.145953Z",
     "start_time": "2023-12-14T16:12:11.082019Z"
    }
   }
  },
  {
   "cell_type": "code",
   "execution_count": 124,
   "outputs": [],
   "source": [
    "n_classes = 10\n",
    "\n",
    "Y_train = to_categorical(y_train, n_classes)\n",
    "Y_test = to_categorical(y_test, n_classes)"
   ],
   "metadata": {
    "collapsed": false,
    "ExecuteTime": {
     "end_time": "2023-12-14T16:12:11.146534Z",
     "start_time": "2023-12-14T16:12:11.135286Z"
    }
   }
  },
  {
   "cell_type": "markdown",
   "source": [
    "### Define Model"
   ],
   "metadata": {
    "collapsed": false
   }
  },
  {
   "cell_type": "code",
   "execution_count": 125,
   "outputs": [
    {
     "name": "stdout",
     "output_type": "stream",
     "text": [
      "Model: \"sequential_23\"\n",
      "_________________________________________________________________\n",
      " Layer (type)                Output Shape              Param #   \n",
      "=================================================================\n",
      " dense_38 (Dense)            (None, 100)               78500     \n",
      "                                                                 \n",
      " dense_39 (Dense)            (None, 200)               20200     \n",
      "                                                                 \n",
      " dense_40 (Dense)            (None, 10)                2010      \n",
      "                                                                 \n",
      "=================================================================\n",
      "Total params: 100710 (393.40 KB)\n",
      "Trainable params: 100710 (393.40 KB)\n",
      "Non-trainable params: 0 (0.00 Byte)\n",
      "_________________________________________________________________\n"
     ]
    }
   ],
   "source": [
    "model = Sequential()\n",
    "\n",
    "model.add(Dense(100, input_shape=(784,), activation='relu'))\n",
    "model.add(Dense(200, activation='relu'))\n",
    "model.add(Dense(10, activation='softmax'))\n",
    "\n",
    "model.summary()"
   ],
   "metadata": {
    "collapsed": false,
    "ExecuteTime": {
     "end_time": "2023-12-14T16:12:11.215250Z",
     "start_time": "2023-12-14T16:12:11.155952Z"
    }
   }
  },
  {
   "cell_type": "markdown",
   "source": [
    "### Train model"
   ],
   "metadata": {
    "collapsed": false
   }
  },
  {
   "cell_type": "code",
   "execution_count": 126,
   "outputs": [
    {
     "name": "stdout",
     "output_type": "stream",
     "text": [
      "Epoch 1/20\n",
      "525/525 [==============================] - 1s 1ms/step - loss: 0.3462 - accuracy: 0.9021 - val_loss: 0.1821 - val_accuracy: 0.9457\n",
      "Epoch 2/20\n",
      "525/525 [==============================] - 1s 1ms/step - loss: 0.1465 - accuracy: 0.9557 - val_loss: 0.1475 - val_accuracy: 0.9567\n",
      "Epoch 3/20\n",
      "525/525 [==============================] - 0s 897us/step - loss: 0.1000 - accuracy: 0.9699 - val_loss: 0.1178 - val_accuracy: 0.9632\n",
      "Epoch 4/20\n",
      "525/525 [==============================] - 0s 844us/step - loss: 0.0761 - accuracy: 0.9768 - val_loss: 0.1131 - val_accuracy: 0.9630\n",
      "Epoch 5/20\n",
      "525/525 [==============================] - 0s 851us/step - loss: 0.0572 - accuracy: 0.9823 - val_loss: 0.1055 - val_accuracy: 0.9673\n",
      "Epoch 6/20\n",
      "525/525 [==============================] - 0s 863us/step - loss: 0.0459 - accuracy: 0.9849 - val_loss: 0.1047 - val_accuracy: 0.9681\n",
      "Epoch 7/20\n",
      "525/525 [==============================] - 0s 853us/step - loss: 0.0351 - accuracy: 0.9894 - val_loss: 0.1019 - val_accuracy: 0.9698\n",
      "Epoch 8/20\n",
      "525/525 [==============================] - 0s 851us/step - loss: 0.0299 - accuracy: 0.9903 - val_loss: 0.1062 - val_accuracy: 0.9705\n",
      "Epoch 9/20\n",
      "525/525 [==============================] - 0s 803us/step - loss: 0.0251 - accuracy: 0.9922 - val_loss: 0.1081 - val_accuracy: 0.9708\n",
      "Epoch 10/20\n",
      "525/525 [==============================] - 0s 829us/step - loss: 0.0210 - accuracy: 0.9937 - val_loss: 0.1187 - val_accuracy: 0.9660\n",
      "Epoch 11/20\n",
      "525/525 [==============================] - 0s 813us/step - loss: 0.0169 - accuracy: 0.9949 - val_loss: 0.1201 - val_accuracy: 0.9694\n",
      "Epoch 12/20\n",
      "525/525 [==============================] - 0s 818us/step - loss: 0.0155 - accuracy: 0.9945 - val_loss: 0.1131 - val_accuracy: 0.9705\n",
      "Epoch 13/20\n",
      "525/525 [==============================] - 0s 853us/step - loss: 0.0123 - accuracy: 0.9962 - val_loss: 0.1235 - val_accuracy: 0.9696\n",
      "Epoch 14/20\n",
      "525/525 [==============================] - 0s 936us/step - loss: 0.0156 - accuracy: 0.9950 - val_loss: 0.1197 - val_accuracy: 0.9713\n",
      "Epoch 15/20\n",
      "525/525 [==============================] - 0s 925us/step - loss: 0.0122 - accuracy: 0.9962 - val_loss: 0.1277 - val_accuracy: 0.9715\n",
      "Epoch 16/20\n",
      "525/525 [==============================] - 0s 848us/step - loss: 0.0097 - accuracy: 0.9971 - val_loss: 0.1827 - val_accuracy: 0.9652\n",
      "Epoch 17/20\n",
      "525/525 [==============================] - 0s 828us/step - loss: 0.0098 - accuracy: 0.9966 - val_loss: 0.1415 - val_accuracy: 0.9711\n",
      "Epoch 18/20\n",
      "525/525 [==============================] - 0s 884us/step - loss: 0.0092 - accuracy: 0.9970 - val_loss: 0.1360 - val_accuracy: 0.9720\n",
      "Epoch 19/20\n",
      "525/525 [==============================] - 0s 885us/step - loss: 0.0091 - accuracy: 0.9969 - val_loss: 0.1535 - val_accuracy: 0.9694\n",
      "Epoch 20/20\n",
      "525/525 [==============================] - 0s 874us/step - loss: 0.0151 - accuracy: 0.9950 - val_loss: 0.1606 - val_accuracy: 0.9693\n"
     ]
    },
    {
     "data": {
      "text/plain": "<keras.src.callbacks.History at 0x28a007ed0>"
     },
     "execution_count": 126,
     "metadata": {},
     "output_type": "execute_result"
    }
   ],
   "source": [
    "model.compile(loss='categorical_crossentropy', metrics=['accuracy'], optimizer='adam')\n",
    "model.fit(X_train_norm, Y_train, batch_size=64, epochs=20, validation_data=(X_test_norm, Y_test))"
   ],
   "metadata": {
    "collapsed": false,
    "ExecuteTime": {
     "end_time": "2023-12-14T16:12:20.844279Z",
     "start_time": "2023-12-14T16:12:11.218052Z"
    }
   }
  },
  {
   "cell_type": "markdown",
   "source": [
    "> Comment:\n",
    "> So I tried to build a very simple CNN with 3 layers, an input then a calculation and finally an output layer with the first two have \"relu\" activation while the last has the \"softmax\".\n",
    "> After fitting the model, the accuracy of the CNN is closed to the accuracy of the KNN, around 97% depending on the epochs.\n",
    "> What I can say is: the digits classification task is rather simple and two models performed nearly similar to each others. However, in the next task with identify the dog breed from the image with larger amount of pixels. We will see how the CNN is better."
   ],
   "metadata": {
    "collapsed": false
   }
  },
  {
   "cell_type": "markdown",
   "source": [
    "### Test model"
   ],
   "metadata": {
    "collapsed": false
   }
  },
  {
   "cell_type": "code",
   "execution_count": 127,
   "outputs": [
    {
     "name": "stdout",
     "output_type": "stream",
     "text": [
      "875/875 [==============================] - 0s 317us/step\n"
     ]
    }
   ],
   "source": [
    "y_pred_cnn = model.predict(test)"
   ],
   "metadata": {
    "collapsed": false,
    "ExecuteTime": {
     "end_time": "2023-12-14T16:12:21.342561Z",
     "start_time": "2023-12-14T16:12:20.845962Z"
    }
   }
  },
  {
   "cell_type": "code",
   "execution_count": 128,
   "outputs": [
    {
     "name": "stdout",
     "output_type": "stream",
     "text": [
      "The digit is 0\n"
     ]
    },
    {
     "data": {
      "text/plain": "<Figure size 640x480 with 1 Axes>",
      "image/png": "[encoded data removed]"
     },
     "metadata": {},
     "output_type": "display_data"
    }
   ],
   "source": [
    "# Test the CNN model\n",
    "plt.imshow(test.iloc[1900].values.reshape(28, 28), cmap=\"gray\")\n",
    "print(f'The digit is {np.argmax(y_pred_cnn[1900])}')"
   ],
   "metadata": {
    "collapsed": false,
    "ExecuteTime": {
     "end_time": "2023-12-14T16:12:21.401088Z",
     "start_time": "2023-12-14T16:12:21.351615Z"
    }
   }
  },
  {
   "cell_type": "code",
   "execution_count": 129,
   "outputs": [
    {
     "name": "stdout",
     "output_type": "stream",
     "text": [
      "The digit is 3\n"
     ]
    },
    {
     "data": {
      "text/plain": "<Figure size 640x480 with 1 Axes>",
      "image/png": "[encoded data removed]"
     },
     "metadata": {},
     "output_type": "display_data"
    }
   ],
   "source": [
    "plt.imshow(test.iloc[6900].values.reshape(28, 28), cmap=\"gray\")\n",
    "print(f'The digit is {np.argmax(y_pred_cnn[6900])}')"
   ],
   "metadata": {
    "collapsed": false,
    "ExecuteTime": {
     "end_time": "2023-12-14T16:12:21.459843Z",
     "start_time": "2023-12-14T16:12:21.405224Z"
    }
   }
  },
  {
   "cell_type": "markdown",
   "source": [
    "# Dog breed\n",
    "\n",
    "**Task:** Classify different dog breeds from images. The images are in different pixels. The training dataset is a number of dog images with a csv file labelling which breed, there are 10222 images for training.\n",
    "\n",
    "The same strategy is implemented with one linear model of K-Nearest Neighbors while the non-linear model is a CNN layers."
   ],
   "metadata": {
    "collapsed": false
   }
  },
  {
   "cell_type": "code",
   "execution_count": 130,
   "outputs": [],
   "source": [
    "# Setting some variables\n",
    "train_path = \"../Assignment 1/dog-breed-identification/train/\"\n",
    "labels_path = \"../Assignment 1/dog-breed-identification/labels.csv\"\n",
    "img_size = [64, 64, 3]"
   ],
   "metadata": {
    "collapsed": false,
    "ExecuteTime": {
     "end_time": "2023-12-14T16:12:21.460085Z",
     "start_time": "2023-12-14T16:12:21.455243Z"
    }
   }
  },
  {
   "cell_type": "code",
   "execution_count": 131,
   "outputs": [
    {
     "name": "stderr",
     "output_type": "stream",
     "text": [
      "python(63132) MallocStackLogging: can't turn off malloc stack logging because it was not enabled.\n"
     ]
    },
    {
     "name": "stdout",
     "output_type": "stream",
     "text": [
      "The number of images in the train folder is:    10222\r\n"
     ]
    },
    {
     "name": "stderr",
     "output_type": "stream",
     "text": [
      "python(63137) MallocStackLogging: can't turn off malloc stack logging because it was not enabled.\n"
     ]
    },
    {
     "name": "stdout",
     "output_type": "stream",
     "text": [
      "The number of images in the test folder is:    10357\r\n"
     ]
    }
   ],
   "source": [
    "# Print the number of images in folders\n",
    "!echo \"The number of images in the train folder is: $(ls dog-breed-identification/train/*.jpg | wc -l)\"\n",
    "!echo \"The number of images in the test folder is: $(ls dog-breed-identification/test/*.jpg | wc -l)\""
   ],
   "metadata": {
    "collapsed": false,
    "ExecuteTime": {
     "end_time": "2023-12-14T16:12:22.304387Z",
     "start_time": "2023-12-14T16:12:21.461763Z"
    }
   }
  },
  {
   "cell_type": "markdown",
   "source": [
    "## Data import"
   ],
   "metadata": {
    "collapsed": false
   }
  },
  {
   "cell_type": "code",
   "execution_count": 132,
   "outputs": [],
   "source": [
    "labels_master = pd.read_csv(\"../Assignment 1/dog-breed-identification/labels.csv\")\n",
    "labels = labels_master.copy()"
   ],
   "metadata": {
    "collapsed": false,
    "ExecuteTime": {
     "end_time": "2023-12-14T16:12:22.320723Z",
     "start_time": "2023-12-14T16:12:22.306701Z"
    }
   }
  },
  {
   "cell_type": "code",
   "execution_count": 133,
   "outputs": [
    {
     "data": {
      "text/plain": "10222"
     },
     "execution_count": 133,
     "metadata": {},
     "output_type": "execute_result"
    }
   ],
   "source": [
    "len(labels)"
   ],
   "metadata": {
    "collapsed": false,
    "ExecuteTime": {
     "end_time": "2023-12-14T16:12:22.323139Z",
     "start_time": "2023-12-14T16:12:22.321422Z"
    }
   }
  },
  {
   "cell_type": "code",
   "execution_count": 134,
   "outputs": [
    {
     "data": {
      "text/plain": "                                 id             breed\n0  000bec180eb18c7604dcecc8fe0dba07       boston_bull\n1  001513dfcb2ffafc82cccf4d8bbaba97             dingo\n2  001cdf01b096e06d78e9e5112d419397          pekinese\n3  00214f311d5d2247d5dfe4fe24b2303d          bluetick\n4  0021f9ceb3235effd7fcde7f7538ed62  golden_retriever",
      "text/html": "<div>\n<style scoped>\n    .dataframe tbody tr th:only-of-type {\n        vertical-align: middle;\n    }\n\n    .dataframe tbody tr th {\n        vertical-align: top;\n    }\n\n    .dataframe thead th {\n        text-align: right;\n    }\n</style>\n<table border=\"1\" class=\"dataframe\">\n  <thead>\n    <tr style=\"text-align: right;\">\n      <th></th>\n      <th>id</th>\n      <th>breed</th>\n    </tr>\n  </thead>\n  <tbody>\n    <tr>\n      <th>0</th>\n      <td>000bec180eb18c7604dcecc8fe0dba07</td>\n      <td>boston_bull</td>\n    </tr>\n    <tr>\n      <th>1</th>\n      <td>001513dfcb2ffafc82cccf4d8bbaba97</td>\n      <td>dingo</td>\n    </tr>\n    <tr>\n      <th>2</th>\n      <td>001cdf01b096e06d78e9e5112d419397</td>\n      <td>pekinese</td>\n    </tr>\n    <tr>\n      <th>3</th>\n      <td>00214f311d5d2247d5dfe4fe24b2303d</td>\n      <td>bluetick</td>\n    </tr>\n    <tr>\n      <th>4</th>\n      <td>0021f9ceb3235effd7fcde7f7538ed62</td>\n      <td>golden_retriever</td>\n    </tr>\n  </tbody>\n</table>\n</div>"
     },
     "execution_count": 134,
     "metadata": {},
     "output_type": "execute_result"
    }
   ],
   "source": [
    "labels.head()"
   ],
   "metadata": {
    "collapsed": false,
    "ExecuteTime": {
     "end_time": "2023-12-14T16:12:22.344134Z",
     "start_time": "2023-12-14T16:12:22.325583Z"
    }
   }
  },
  {
   "cell_type": "code",
   "execution_count": 135,
   "outputs": [
    {
     "data": {
      "text/plain": "              breed                                               path\n0       boston_bull  ../Assignment 1/dog-breed-identification/train...\n1             dingo  ../Assignment 1/dog-breed-identification/train...\n2          pekinese  ../Assignment 1/dog-breed-identification/train...\n3          bluetick  ../Assignment 1/dog-breed-identification/train...\n4  golden_retriever  ../Assignment 1/dog-breed-identification/train...",
      "text/html": "<div>\n<style scoped>\n    .dataframe tbody tr th:only-of-type {\n        vertical-align: middle;\n    }\n\n    .dataframe tbody tr th {\n        vertical-align: top;\n    }\n\n    .dataframe thead th {\n        text-align: right;\n    }\n</style>\n<table border=\"1\" class=\"dataframe\">\n  <thead>\n    <tr style=\"text-align: right;\">\n      <th></th>\n      <th>breed</th>\n      <th>path</th>\n    </tr>\n  </thead>\n  <tbody>\n    <tr>\n      <th>0</th>\n      <td>boston_bull</td>\n      <td>../Assignment 1/dog-breed-identification/train...</td>\n    </tr>\n    <tr>\n      <th>1</th>\n      <td>dingo</td>\n      <td>../Assignment 1/dog-breed-identification/train...</td>\n    </tr>\n    <tr>\n      <th>2</th>\n      <td>pekinese</td>\n      <td>../Assignment 1/dog-breed-identification/train...</td>\n    </tr>\n    <tr>\n      <th>3</th>\n      <td>bluetick</td>\n      <td>../Assignment 1/dog-breed-identification/train...</td>\n    </tr>\n    <tr>\n      <th>4</th>\n      <td>golden_retriever</td>\n      <td>../Assignment 1/dog-breed-identification/train...</td>\n    </tr>\n  </tbody>\n</table>\n</div>"
     },
     "execution_count": 135,
     "metadata": {},
     "output_type": "execute_result"
    }
   ],
   "source": [
    "# Adding the path to the dataframe for later use\n",
    "labels[\"path\"] = train_path + labels.id + \".jpg\"\n",
    "labels.drop(\"id\", axis=1, inplace=True)\n",
    "labels.head()"
   ],
   "metadata": {
    "collapsed": false,
    "ExecuteTime": {
     "end_time": "2023-12-14T16:12:22.344376Z",
     "start_time": "2023-12-14T16:12:22.331850Z"
    }
   }
  },
  {
   "cell_type": "code",
   "execution_count": 136,
   "outputs": [],
   "source": [
    "def create_dataframe(data: pd.DataFrame, img_size: list[int]):\n",
    "    \"\"\" Return a dataframe of pixels of images\n",
    "\n",
    "    Argument:\n",
    "    data: Dataframe with image paths and labels\n",
    "    img_size: pixel sizes\n",
    "    \"\"\"\n",
    "    all_images = []\n",
    "\n",
    "    # Transform each image to pixels array and add to one big array\n",
    "    for idx, row in tqdm(data.iterrows(), total=data.shape[0]):\n",
    "        img = load_img(row['path'], target_size=img_size)\n",
    "        array_img = img_to_array(img, dtype=np.uint8)\n",
    "        array_img_t = array_img.flatten()\n",
    "        all_images.append(array_img_t)\n",
    "\n",
    "    # Create a dataframe from pixels array\n",
    "    column_names = [f'pixel{num}' for num in range(len(all_images[0]))]\n",
    "    df = pd.DataFrame(all_images, columns=column_names)\n",
    "\n",
    "    return df"
   ],
   "metadata": {
    "collapsed": false,
    "ExecuteTime": {
     "end_time": "2023-12-14T16:12:22.344433Z",
     "start_time": "2023-12-14T16:12:22.337649Z"
    }
   }
  },
  {
   "cell_type": "code",
   "execution_count": 137,
   "outputs": [
    {
     "name": "stderr",
     "output_type": "stream",
     "text": [
      "100%|██████████| 10222/10222 [00:14<00:00, 691.24it/s]\n"
     ]
    }
   ],
   "source": [
    "X = create_dataframe(labels, img_size)\n",
    "#len(X)\n",
    "#X.head()"
   ],
   "metadata": {
    "collapsed": false,
    "ExecuteTime": {
     "end_time": "2023-12-14T16:19:02.351792Z",
     "start_time": "2023-12-14T16:12:22.339384Z"
    }
   }
  },
  {
   "cell_type": "code",
   "execution_count": 138,
   "outputs": [
    {
     "data": {
      "text/plain": "0         boston_bull\n1               dingo\n2            pekinese\n3            bluetick\n4    golden_retriever\nName: breed, dtype: object"
     },
     "execution_count": 138,
     "metadata": {},
     "output_type": "execute_result"
    }
   ],
   "source": [
    "y = labels.breed\n",
    "y.head()"
   ],
   "metadata": {
    "collapsed": false,
    "ExecuteTime": {
     "end_time": "2023-12-14T16:19:02.355334Z",
     "start_time": "2023-12-14T16:19:02.353507Z"
    }
   }
  },
  {
   "cell_type": "code",
   "execution_count": 139,
   "outputs": [
    {
     "data": {
      "text/plain": "120"
     },
     "execution_count": 139,
     "metadata": {},
     "output_type": "execute_result"
    }
   ],
   "source": [
    "y.nunique()"
   ],
   "metadata": {
    "collapsed": false,
    "ExecuteTime": {
     "end_time": "2023-12-14T16:19:02.362517Z",
     "start_time": "2023-12-14T16:19:02.360032Z"
    }
   }
  },
  {
   "cell_type": "code",
   "execution_count": 140,
   "outputs": [],
   "source": [
    "# Process the labels for CNN also\n",
    "le = LabelBinarizer()\n",
    "y_ohe = le.fit_transform(y)"
   ],
   "metadata": {
    "collapsed": false,
    "ExecuteTime": {
     "end_time": "2023-12-14T16:19:02.413778Z",
     "start_time": "2023-12-14T16:19:02.376864Z"
    }
   }
  },
  {
   "cell_type": "markdown",
   "source": [
    "## Splitting data"
   ],
   "metadata": {
    "collapsed": false
   }
  },
  {
   "cell_type": "code",
   "execution_count": 141,
   "outputs": [
    {
     "name": "stdout",
     "output_type": "stream",
     "text": [
      "(8177, 12288)\n",
      "(2045, 12288)\n"
     ]
    }
   ],
   "source": [
    "X_train_dog, X_test_dog, y_train_dog, y_test_dog = train_test_split(X, y_ohe, test_size=0.2, random_state=42)\n",
    "print(X_train_dog.shape)\n",
    "print(X_test_dog.shape)"
   ],
   "metadata": {
    "collapsed": false,
    "ExecuteTime": {
     "end_time": "2023-12-14T16:19:02.665042Z",
     "start_time": "2023-12-14T16:19:02.413934Z"
    }
   }
  },
  {
   "cell_type": "markdown",
   "source": [
    "## Traditional machine learning"
   ],
   "metadata": {
    "collapsed": false
   }
  },
  {
   "cell_type": "code",
   "execution_count": 142,
   "outputs": [],
   "source": [
    "# Initially testing if KNN is slow in training\n",
    "X_train_sample = X_train_dog[:1000]\n",
    "y_train_sample = y_train_dog[:1000]"
   ],
   "metadata": {
    "collapsed": false,
    "ExecuteTime": {
     "end_time": "2023-12-14T16:19:02.667305Z",
     "start_time": "2023-12-14T16:19:02.665779Z"
    }
   }
  },
  {
   "cell_type": "code",
   "execution_count": 143,
   "outputs": [
    {
     "data": {
      "text/plain": "KNeighborsClassifier(n_neighbors=1)",
      "text/html": "<style>#sk-container-id-2 {color: black;}#sk-container-id-2 pre{padding: 0;}#sk-container-id-2 div.sk-toggleable {background-color: white;}#sk-container-id-2 label.sk-toggleable__label {cursor: pointer;display: block;width: 100%;margin-bottom: 0;padding: 0.3em;box-sizing: border-box;text-align: center;}#sk-container-id-2 label.sk-toggleable__label-arrow:before {content: \"▸\";float: left;margin-right: 0.25em;color: #696969;}#sk-container-id-2 label.sk-toggleable__label-arrow:hover:before {color: black;}#sk-container-id-2 div.sk-estimator:hover label.sk-toggleable__label-arrow:before {color: black;}#sk-container-id-2 div.sk-toggleable__content {max-height: 0;max-width: 0;overflow: hidden;text-align: left;background-color: #f0f8ff;}#sk-container-id-2 div.sk-toggleable__content pre {margin: 0.2em;color: black;border-radius: 0.25em;background-color: #f0f8ff;}#sk-container-id-2 input.sk-toggleable__control:checked~div.sk-toggleable__content {max-height: 200px;max-width: 100%;overflow: auto;}#sk-container-id-2 input.sk-toggleable__control:checked~label.sk-toggleable__label-arrow:before {content: \"▾\";}#sk-container-id-2 div.sk-estimator input.sk-toggleable__control:checked~label.sk-toggleable__label {background-color: #d4ebff;}#sk-container-id-2 div.sk-label input.sk-toggleable__control:checked~label.sk-toggleable__label {background-color: #d4ebff;}#sk-container-id-2 input.sk-hidden--visually {border: 0;clip: rect(1px 1px 1px 1px);clip: rect(1px, 1px, 1px, 1px);height: 1px;margin: -1px;overflow: hidden;padding: 0;position: absolute;width: 1px;}#sk-container-id-2 div.sk-estimator {font-family: monospace;background-color: #f0f8ff;border: 1px dotted black;border-radius: 0.25em;box-sizing: border-box;margin-bottom: 0.5em;}#sk-container-id-2 div.sk-estimator:hover {background-color: #d4ebff;}#sk-container-id-2 div.sk-parallel-item::after {content: \"\";width: 100%;border-bottom: 1px solid gray;flex-grow: 1;}#sk-container-id-2 div.sk-label:hover label.sk-toggleable__label {background-color: #d4ebff;}#sk-container-id-2 div.sk-serial::before {content: \"\";position: absolute;border-left: 1px solid gray;box-sizing: border-box;top: 0;bottom: 0;left: 50%;z-index: 0;}#sk-container-id-2 div.sk-serial {display: flex;flex-direction: column;align-items: center;background-color: white;padding-right: 0.2em;padding-left: 0.2em;position: relative;}#sk-container-id-2 div.sk-item {position: relative;z-index: 1;}#sk-container-id-2 div.sk-parallel {display: flex;align-items: stretch;justify-content: center;background-color: white;position: relative;}#sk-container-id-2 div.sk-item::before, #sk-container-id-2 div.sk-parallel-item::before {content: \"\";position: absolute;border-left: 1px solid gray;box-sizing: border-box;top: 0;bottom: 0;left: 50%;z-index: -1;}#sk-container-id-2 div.sk-parallel-item {display: flex;flex-direction: column;z-index: 1;position: relative;background-color: white;}#sk-container-id-2 div.sk-parallel-item:first-child::after {align-self: flex-end;width: 50%;}#sk-container-id-2 div.sk-parallel-item:last-child::after {align-self: flex-start;width: 50%;}#sk-container-id-2 div.sk-parallel-item:only-child::after {width: 0;}#sk-container-id-2 div.sk-dashed-wrapped {border: 1px dashed gray;margin: 0 0.4em 0.5em 0.4em;box-sizing: border-box;padding-bottom: 0.4em;background-color: white;}#sk-container-id-2 div.sk-label label {font-family: monospace;font-weight: bold;display: inline-block;line-height: 1.2em;}#sk-container-id-2 div.sk-label-container {text-align: center;}#sk-container-id-2 div.sk-container {/* jupyter's `normalize.less` sets `[hidden] { display: none; }` but bootstrap.min.css set `[hidden] { display: none !important; }` so we also need the `!important` here to be able to override the default hidden behavior on the sphinx rendered scikit-learn.org. See: https://github.com/scikit-learn/scikit-learn/issues/21755 */display: inline-block !important;position: relative;}#sk-container-id-2 div.sk-text-repr-fallback {display: none;}</style><div id=\"sk-container-id-2\" class=\"sk-top-container\"><div class=\"sk-text-repr-fallback\"><pre>KNeighborsClassifier(n_neighbors=1)</pre><b>In a Jupyter environment, please rerun this cell to show the HTML representation or trust the notebook. <br />On GitHub, the HTML representation is unable to render, please try loading this page with nbviewer.org.</b></div><div class=\"sk-container\" hidden><div class=\"sk-item\"><div class=\"sk-estimator sk-toggleable\"><input class=\"sk-toggleable__control sk-hidden--visually\" id=\"sk-estimator-id-2\" type=\"checkbox\" checked><label for=\"sk-estimator-id-2\" class=\"sk-toggleable__label sk-toggleable__label-arrow\">KNeighborsClassifier</label><div class=\"sk-toggleable__content\"><pre>KNeighborsClassifier(n_neighbors=1)</pre></div></div></div></div></div>"
     },
     "execution_count": 143,
     "metadata": {},
     "output_type": "execute_result"
    }
   ],
   "source": [
    "knn_2 = KNeighborsClassifier(n_neighbors=1)\n",
    "#knn_2.fit(X_train_sample, y_train_sample)\n",
    "knn_2.fit(X_train_dog, y_train_dog)"
   ],
   "metadata": {
    "collapsed": false,
    "ExecuteTime": {
     "end_time": "2023-12-14T16:19:02.910512Z",
     "start_time": "2023-12-14T16:19:02.670145Z"
    }
   }
  },
  {
   "cell_type": "code",
   "execution_count": 144,
   "outputs": [],
   "source": [
    "y_pred_dog = knn_2.predict(X_test_dog.to_numpy())"
   ],
   "metadata": {
    "collapsed": false,
    "ExecuteTime": {
     "end_time": "2023-12-14T16:19:08.609056Z",
     "start_time": "2023-12-14T16:19:02.911413Z"
    }
   }
  },
  {
   "cell_type": "code",
   "execution_count": 145,
   "outputs": [
    {
     "data": {
      "text/plain": "0.033251833740831294"
     },
     "execution_count": 145,
     "metadata": {},
     "output_type": "execute_result"
    }
   ],
   "source": [
    "accuracy_score(y_test_dog, y_pred_dog)"
   ],
   "metadata": {
    "collapsed": false,
    "ExecuteTime": {
     "end_time": "2023-12-14T16:19:08.621173Z",
     "start_time": "2023-12-14T16:19:08.609824Z"
    }
   }
  },
  {
   "cell_type": "markdown",
   "source": [
    "> Comment: As we can clearly see, for the digits task, the KNN performed well but with a much more complex task like dog breed identification, it does not perform well at all."
   ],
   "metadata": {
    "collapsed": false
   }
  },
  {
   "cell_type": "markdown",
   "source": [
    "## CNN"
   ],
   "metadata": {
    "collapsed": false
   }
  },
  {
   "cell_type": "code",
   "execution_count": 146,
   "outputs": [],
   "source": [
    "def process_images(data: pd.DataFrame, img_size: list[int] = [224, 224]):\n",
    "    \"\"\" Return the pixels array for CNN\n",
    "\n",
    "    Argument:\n",
    "    data: Dataframe with image paths and labels\n",
    "    img_size: pixel sizes\n",
    "    \"\"\"\n",
    "\n",
    "    # Create a list to hold pixels\n",
    "    img_arrays = []\n",
    "\n",
    "    # Transform each image into pixels array\n",
    "    for _, row in tqdm(data.iterrows(), total=data.shape[0]):\n",
    "        img = load_img(row.path, target_size=img_size)\n",
    "        img_array = img_to_array(img, dtype=np.uint8)\n",
    "        img_arrays.append(img_array)\n",
    "\n",
    "    # Convert into a numpy array for the CNN\n",
    "    one_img_arr = np.array(img_arrays)\n",
    "    return one_img_arr"
   ],
   "metadata": {
    "collapsed": false,
    "ExecuteTime": {
     "end_time": "2023-12-14T16:19:08.623857Z",
     "start_time": "2023-12-14T16:19:08.622625Z"
    }
   }
  },
  {
   "cell_type": "code",
   "execution_count": 147,
   "outputs": [
    {
     "name": "stderr",
     "output_type": "stream",
     "text": [
      "100%|██████████| 10222/10222 [00:15<00:00, 676.32it/s]\n"
     ]
    }
   ],
   "source": [
    "X_cnn = process_images(labels)"
   ],
   "metadata": {
    "collapsed": false,
    "ExecuteTime": {
     "end_time": "2023-12-14T16:19:24.790594Z",
     "start_time": "2023-12-14T16:19:08.624810Z"
    }
   }
  },
  {
   "cell_type": "markdown",
   "source": [
    "> Comment: With KNN, the pixels size is very important because the higher the size, the longer it takes to convert into array and longer training time. With CNN, it is easier as it can deal with larger pixels size."
   ],
   "metadata": {
    "collapsed": false
   }
  },
  {
   "cell_type": "markdown",
   "source": [
    "### Build from scratch"
   ],
   "metadata": {
    "collapsed": false
   }
  },
  {
   "cell_type": "code",
   "execution_count": 148,
   "outputs": [],
   "source": [
    "X_train_dog_cnn, X_test_dog_cnn, y_train_dog_cnn, y_test_dog_cnn = train_test_split(X_cnn, y_ohe, test_size=.2, random_state=42)"
   ],
   "metadata": {
    "collapsed": false,
    "ExecuteTime": {
     "end_time": "2023-12-14T16:19:25.651149Z",
     "start_time": "2023-12-14T16:19:24.792345Z"
    }
   }
  },
  {
   "cell_type": "code",
   "execution_count": 149,
   "outputs": [],
   "source": [
    "# Normalize data\n",
    "X_train_dog_cnn = X_train_dog_cnn / 255\n",
    "X_test_dog_cnn = X_test_dog_cnn / 255"
   ],
   "metadata": {
    "collapsed": false,
    "ExecuteTime": {
     "end_time": "2023-12-14T16:20:22.896274Z",
     "start_time": "2023-12-14T16:19:25.652349Z"
    }
   }
  },
  {
   "cell_type": "markdown",
   "source": [
    "model_2 = Sequential()\n",
    "\n",
    "model_2.add(Conv2D(32, (3, 3), activation=\"relu\", input_shape=(224, 224, 3), padding=\"same\"))\n",
    "model_2.add(MaxPooling2D(pool_size=(2, 2), strides=(2, 2)))\n",
    "model_2.add(Conv2D(64, (3, 3), activation=\"relu\", padding=\"same\"))\n",
    "model_2.add(MaxPooling2D(pool_size=(2, 2), strides=(2, 2)))\n",
    "model_2.add(Conv2D(128, (3, 3), activation=\"relu\", padding=\"same\"))\n",
    "model_2.add(MaxPooling2D(pool_size=(2, 2), strides=(2, 2)))\n",
    "model_2.add(Conv2D(256, (3, 3), activation=\"relu\", padding=\"same\"))\n",
    "model_2.add(MaxPooling2D(pool_size=(2, 2), strides=(2, 2)))\n",
    "model_2.add(Conv2D(512, (3, 3), activation=\"relu\", padding=\"same\"))\n",
    "model_2.add(MaxPooling2D(pool_size=(2, 2), strides=(2, 2)))\n",
    "\n",
    "model_2.add(Flatten())\n",
    "model_2.add(Dense(512, activation=\"relu\"))\n",
    "model_2.add(Dense(y.nunique(), activation=\"softmax\"))\n",
    "model_2.summary()\n",
    "\n",
    "model_2.compile(loss='categorical_crossentropy', metrics=['accuracy'], optimizer='adam')\n",
    "model_2.fit(X_train_dog_cnn, y_train_dog_cnn, batch_size=64, epochs=10, validation_data=(X_test_dog_cnn, y_test_dog_cnn))"
   ],
   "metadata": {
    "collapsed": false
   }
  },
  {
   "cell_type": "markdown",
   "source": [
    "> Comment: Build my own CNN model took a long time, so I try the transfer learning approach"
   ],
   "metadata": {
    "collapsed": false
   }
  },
  {
   "cell_type": "markdown",
   "source": [
    "### Transfer learning"
   ],
   "metadata": {
    "collapsed": false
   }
  },
  {
   "cell_type": "code",
   "execution_count": 169,
   "outputs": [
    {
     "ename": "SyntaxError",
     "evalue": "non-default argument follows default argument (3951840141.py, line 2)",
     "output_type": "error",
     "traceback": [
      "\u001B[0;36m  Cell \u001B[0;32mIn[169], line 2\u001B[0;36m\u001B[0m\n\u001B[0;31m    def get_features(model_name=InceptionV3, model_preprocessor=inception_preprocess, input_size=[224,224,3], data):\u001B[0m\n\u001B[0m                                                                                                              ^\u001B[0m\n\u001B[0;31mSyntaxError\u001B[0m\u001B[0;31m:\u001B[0m non-default argument follows default argument\n"
     ]
    }
   ],
   "source": [
    "# Credit to the HÜSEYIN CENİK team on kaggle for the following code\n",
    "def get_features(model_name, model_preprocessor, input_size, data: pd.DataFrame):\n",
    "    input_layer = Input(input_size)\n",
    "    preprocessor = model_preprocessor(input_layer)\n",
    "    base_model = model_name(weights='imagenet', include_top=False, input_shape=input_size)(preprocessor)\n",
    "    maxPool = MaxPooling2D()(base_model)\n",
    "    feature_extractor = Model(inputs=input_layer, outputs=maxPool)\n",
    "    feature_maps = feature_extractor.predict(data, verbose=1)\n",
    "    print('Feature maps shape:', feature_maps.shape)\n",
    "    return feature_maps"
   ],
   "metadata": {
    "collapsed": false,
    "ExecuteTime": {
     "end_time": "2023-12-14T17:13:47.375729Z",
     "start_time": "2023-12-14T17:13:47.372843Z"
    }
   }
  },
  {
   "cell_type": "markdown",
   "source": [
    "#### InceptionV3"
   ],
   "metadata": {
    "collapsed": false
   }
  },
  {
   "cell_type": "code",
   "execution_count": 155,
   "outputs": [
    {
     "name": "stdout",
     "output_type": "stream",
     "text": [
      "320/320 [==============================] - 366s 1s/step\n",
      "Feature maps shape: (10222, 2, 2, 2048)\n"
     ]
    }
   ],
   "source": [
    "features = get_features(InceptionV3, inception_preprocess, [224, 224, 3], X_cnn)"
   ],
   "metadata": {
    "collapsed": false,
    "ExecuteTime": {
     "end_time": "2023-12-14T16:30:26.437169Z",
     "start_time": "2023-12-14T16:24:07.414313Z"
    }
   }
  },
  {
   "cell_type": "code",
   "execution_count": 156,
   "outputs": [],
   "source": [
    "X_train_tf, X_test_tf, y_train_tf, y_test_tf = train_test_split(features, y_ohe, test_size=.2, random_state=42)"
   ],
   "metadata": {
    "collapsed": false,
    "ExecuteTime": {
     "end_time": "2023-12-14T16:31:55.731092Z",
     "start_time": "2023-12-14T16:31:55.547481Z"
    }
   }
  },
  {
   "cell_type": "code",
   "execution_count": 157,
   "outputs": [
    {
     "name": "stdout",
     "output_type": "stream",
     "text": [
      "Model: \"sequential_25\"\n",
      "_________________________________________________________________\n",
      " Layer (type)                Output Shape              Param #   \n",
      "=================================================================\n",
      " flatten_22 (Flatten)        (None, 8192)              0         \n",
      "                                                                 \n",
      " dropout_15 (Dropout)        (None, 8192)              0         \n",
      "                                                                 \n",
      " dense_43 (Dense)            (None, 512)               4194816   \n",
      "                                                                 \n",
      " dense_44 (Dense)            (None, 120)               61560     \n",
      "                                                                 \n",
      "=================================================================\n",
      "Total params: 4256376 (16.24 MB)\n",
      "Trainable params: 4256376 (16.24 MB)\n",
      "Non-trainable params: 0 (0.00 Byte)\n",
      "_________________________________________________________________\n"
     ]
    }
   ],
   "source": [
    "model_3 = Sequential()\n",
    "\n",
    "model_3.add(Input(X_train_tf.shape[1:]))\n",
    "model_3.add(Flatten())\n",
    "model_3.add(Dropout(0.2))\n",
    "model_3.add(Dense(512, activation=\"relu\"))\n",
    "model_3.add(Dense(y.nunique(), activation=\"softmax\"))\n",
    "\n",
    "model_3.summary()"
   ],
   "metadata": {
    "collapsed": false,
    "ExecuteTime": {
     "end_time": "2023-12-14T16:31:57.869117Z",
     "start_time": "2023-12-14T16:31:57.739976Z"
    }
   }
  },
  {
   "cell_type": "code",
   "execution_count": 158,
   "outputs": [],
   "source": [
    "model_3.compile(loss='categorical_crossentropy', metrics=['accuracy'], optimizer='adam')"
   ],
   "metadata": {
    "collapsed": false,
    "ExecuteTime": {
     "end_time": "2023-12-14T16:32:00.817415Z",
     "start_time": "2023-12-14T16:32:00.814447Z"
    }
   }
  },
  {
   "cell_type": "code",
   "execution_count": 159,
   "outputs": [],
   "source": [
    "es = EarlyStopping(monitor='val_accuracy', min_delta=1, verbose=1, patience=5, restore_best_weights=True)"
   ],
   "metadata": {
    "collapsed": false,
    "ExecuteTime": {
     "end_time": "2023-12-14T16:32:02.812835Z",
     "start_time": "2023-12-14T16:32:02.808132Z"
    }
   }
  },
  {
   "cell_type": "code",
   "execution_count": 160,
   "outputs": [
    {
     "name": "stdout",
     "output_type": "stream",
     "text": [
      "Epoch 1/20\n",
      "128/128 [==============================] - 2s 14ms/step - loss: 2.2822 - accuracy: 0.6006 - val_loss: 1.1810 - val_accuracy: 0.7042\n",
      "Epoch 2/20\n",
      "128/128 [==============================] - 1s 10ms/step - loss: 0.7640 - accuracy: 0.7868 - val_loss: 1.1877 - val_accuracy: 0.7076\n",
      "Epoch 3/20\n",
      "128/128 [==============================] - 2s 12ms/step - loss: 0.5111 - accuracy: 0.8477 - val_loss: 1.0251 - val_accuracy: 0.7472\n",
      "Epoch 4/20\n",
      "128/128 [==============================] - 2s 16ms/step - loss: 0.3131 - accuracy: 0.9017 - val_loss: 1.1236 - val_accuracy: 0.7521\n",
      "Epoch 5/20\n",
      "128/128 [==============================] - 2s 12ms/step - loss: 0.2169 - accuracy: 0.9303 - val_loss: 1.1875 - val_accuracy: 0.7477\n",
      "Epoch 6/20\n",
      "128/128 [==============================] - 2s 17ms/step - loss: 0.1512 - accuracy: 0.9481 - val_loss: 1.3017 - val_accuracy: 0.7384\n",
      "Epoch 7/20\n",
      "128/128 [==============================] - 1s 10ms/step - loss: 0.1125 - accuracy: 0.9626 - val_loss: 1.2843 - val_accuracy: 0.7472\n",
      "Epoch 8/20\n",
      "128/128 [==============================] - 1s 10ms/step - loss: 0.0950 - accuracy: 0.9673 - val_loss: 1.4044 - val_accuracy: 0.7540\n",
      "Epoch 9/20\n",
      "128/128 [==============================] - 1s 11ms/step - loss: 0.0808 - accuracy: 0.9725 - val_loss: 1.3954 - val_accuracy: 0.7535\n",
      "Epoch 10/20\n",
      "128/128 [==============================] - 2s 12ms/step - loss: 0.0664 - accuracy: 0.9785 - val_loss: 1.4743 - val_accuracy: 0.7560\n",
      "Epoch 11/20\n",
      "128/128 [==============================] - 2s 13ms/step - loss: 0.0669 - accuracy: 0.9802 - val_loss: 1.6007 - val_accuracy: 0.7403\n",
      "Epoch 12/20\n",
      "128/128 [==============================] - 2s 15ms/step - loss: 0.1011 - accuracy: 0.9688 - val_loss: 1.6484 - val_accuracy: 0.7218\n",
      "Epoch 13/20\n",
      "128/128 [==============================] - 2s 15ms/step - loss: 0.1617 - accuracy: 0.9499 - val_loss: 1.6721 - val_accuracy: 0.7399\n",
      "Epoch 14/20\n",
      "128/128 [==============================] - 2s 15ms/step - loss: 0.1666 - accuracy: 0.9489 - val_loss: 1.5757 - val_accuracy: 0.7355\n",
      "Epoch 15/20\n",
      "128/128 [==============================] - 2s 13ms/step - loss: 0.1637 - accuracy: 0.9494 - val_loss: 1.7422 - val_accuracy: 0.7325\n",
      "Epoch 16/20\n",
      "128/128 [==============================] - 1s 11ms/step - loss: 0.1155 - accuracy: 0.9628 - val_loss: 1.9276 - val_accuracy: 0.7213\n",
      "Epoch 17/20\n",
      "128/128 [==============================] - 1s 10ms/step - loss: 0.1030 - accuracy: 0.9669 - val_loss: 1.9727 - val_accuracy: 0.7262\n",
      "Epoch 18/20\n",
      "128/128 [==============================] - 1s 10ms/step - loss: 0.0909 - accuracy: 0.9718 - val_loss: 1.9026 - val_accuracy: 0.7443\n",
      "Epoch 19/20\n",
      "128/128 [==============================] - 1s 10ms/step - loss: 0.0790 - accuracy: 0.9751 - val_loss: 1.8811 - val_accuracy: 0.7384\n",
      "Epoch 20/20\n",
      "128/128 [==============================] - 1s 11ms/step - loss: 0.0830 - accuracy: 0.9759 - val_loss: 2.0738 - val_accuracy: 0.7203\n"
     ]
    },
    {
     "data": {
      "text/plain": "<keras.src.callbacks.History at 0x286cd7510>"
     },
     "execution_count": 160,
     "metadata": {},
     "output_type": "execute_result"
    }
   ],
   "source": [
    "model_3.fit(X_train_tf, y_train_tf, batch_size=64, epochs=20, validation_data=(X_test_tf, y_test_tf))#, callbacks=[es])"
   ],
   "metadata": {
    "collapsed": false,
    "ExecuteTime": {
     "end_time": "2023-12-14T16:32:36.925671Z",
     "start_time": "2023-12-14T16:32:04.496721Z"
    }
   }
  },
  {
   "cell_type": "markdown",
   "source": [
    "> Comment: as we can see the accuracy of the new model performs really well."
   ],
   "metadata": {
    "collapsed": false
   }
  },
  {
   "cell_type": "markdown",
   "source": [
    "### Test model"
   ],
   "metadata": {
    "collapsed": false
   }
  },
  {
   "cell_type": "code",
   "execution_count": 170,
   "outputs": [
    {
     "name": "stderr",
     "output_type": "stream",
     "text": [
      "Processing images: 100%|██████████| 5/5 [00:00<00:00, 262.59it/s]\n"
     ]
    }
   ],
   "source": [
    "def load_and_preprocess_image(image_path, target_size=[224, 224]):\n",
    "\n",
    "    # Load and transform images\n",
    "    img = load_img(image_path, target_size=target_size)\n",
    "    img_array = img_to_array(img)\n",
    "\n",
    "    return img_array\n",
    "\n",
    "test_path = \"../Assignment 1/dog-breed-identification/test/\"\n",
    "\n",
    "preprocessed_images = []\n",
    "for filename in tqdm(os.listdir(test_path)[:5], desc='Processing images'):\n",
    "    if filename.endswith('.jpg'):\n",
    "        file_path = os.path.join(test_path, filename)\n",
    "        img = load_and_preprocess_image(file_path)\n",
    "        preprocessed_images.append(img)\n",
    "\n",
    "preprocessed_test_images = np.array(preprocessed_images)"
   ],
   "metadata": {
    "collapsed": false,
    "ExecuteTime": {
     "end_time": "2023-12-14T17:14:37.285737Z",
     "start_time": "2023-12-14T17:14:37.218674Z"
    }
   }
  },
  {
   "cell_type": "code",
   "execution_count": 182,
   "outputs": [],
   "source": [
    "breeds = sorted(labels[\"breed\"].unique().tolist())\n",
    "class_to_num = dict(zip(breeds, range(len(breeds))))\n",
    "num_to_class = {v: k for k, v in class_to_num.items()}"
   ],
   "metadata": {
    "collapsed": false,
    "ExecuteTime": {
     "end_time": "2023-12-14T17:25:16.378218Z",
     "start_time": "2023-12-14T17:25:16.372727Z"
    }
   }
  },
  {
   "cell_type": "code",
   "execution_count": 181,
   "outputs": [
    {
     "name": "stdout",
     "output_type": "stream",
     "text": [
      "1/1 [==============================] - 0s 447ms/step\n",
      "Feature maps shape: (5, 2, 2, 2048)\n",
      "1/1 [==============================] - 0s 7ms/step\n"
     ]
    }
   ],
   "source": [
    "test_features = get_features(InceptionV3, inception_preprocess, [224, 224, 3], preprocessed_test_images)\n",
    "predicted_test = model_3.predict(test_features)"
   ],
   "metadata": {
    "collapsed": false,
    "ExecuteTime": {
     "end_time": "2023-12-14T17:22:23.688002Z",
     "start_time": "2023-12-14T17:22:22.011394Z"
    }
   }
  },
  {
   "cell_type": "code",
   "execution_count": 180,
   "outputs": [
    {
     "data": {
      "text/plain": "array([12, 59, 78, 50, 36])"
     },
     "execution_count": 180,
     "metadata": {},
     "output_type": "execute_result"
    }
   ],
   "source": [
    "predicted_classes = np.argmax(predicted_test, axis=1)\n",
    "predicted_classes"
   ],
   "metadata": {
    "collapsed": false,
    "ExecuteTime": {
     "end_time": "2023-12-14T17:22:17.685659Z",
     "start_time": "2023-12-14T17:22:17.679625Z"
    }
   }
  },
  {
   "cell_type": "code",
   "execution_count": 183,
   "outputs": [
    {
     "data": {
      "text/plain": "['black-and-tan_coonhound',\n 'irish_wolfhound',\n 'newfoundland',\n 'gordon_setter',\n 'dhole']"
     },
     "execution_count": 183,
     "metadata": {},
     "output_type": "execute_result"
    }
   ],
   "source": [
    "mapping = [num_to_class[index] for index in predicted_classes]\n",
    "\n",
    "mapping"
   ],
   "metadata": {
    "collapsed": false,
    "ExecuteTime": {
     "end_time": "2023-12-14T17:25:44.691334Z",
     "start_time": "2023-12-14T17:25:44.683016Z"
    }
   }
  }
 ],
 "metadata": {
  "kernelspec": {
   "display_name": "Python 3",
   "language": "python",
   "name": "python3"
  },
  "language_info": {
   "codemirror_mode": {
    "name": "ipython",
    "version": 2
   },
   "file_extension": ".py",
   "mimetype": "text/x-python",
   "name": "python",
   "nbconvert_exporter": "python",
   "pygments_lexer": "ipython2",
   "version": "2.7.6"
  }
 },
 "nbformat": 4,
 "nbformat_minor": 0
}
