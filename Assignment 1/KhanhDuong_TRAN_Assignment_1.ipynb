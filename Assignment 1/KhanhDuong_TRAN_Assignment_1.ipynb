{
 "cells": [
  {
   "cell_type": "markdown",
   "source": [
    "# <center> Assignment 01: Basic to Complex Image classification <br> <br> <small>14 december 2023</small> </center>\n",
    "\n",
    "The goal of this assignment is :\n",
    "\n",
    "    - Classify digits dog breed from two kaggle datasets.\n",
    "    - Try to implement a linear and a non-linear model.\n",
    "    - Compare the accuracies between models in each task.\n"
   ],
   "metadata": {
    "collapsed": false
   }
  },
  {
   "cell_type": "markdown",
   "source": [
    "## Import libraries"
   ],
   "metadata": {
    "collapsed": false
   }
  },
  {
   "cell_type": "code",
   "execution_count": 36,
   "outputs": [],
   "source": [
    "from sklearn.neighbors import KNeighborsClassifier\n",
    "from sklearn.model_selection import train_test_split\n",
    "from sklearn.metrics import classification_report, accuracy_score\n",
    "from tensorflow.keras.models import Sequential, Model\n",
    "from tensorflow.keras.layers import Dense, Flatten, Conv2D, MaxPooling2D, Lambda, Dropout, Input\n",
    "from keras.applications.inception_v3 import InceptionV3, preprocess_input as inception_preprocess\n",
    "from keras.preprocessing.image import load_img, img_to_array\n",
    "from sklearn.preprocessing import LabelBinarizer\n",
    "from keras.utils import to_categorical\n",
    "from tqdm import tqdm\n",
    "import pandas as pd\n",
    "import matplotlib.pyplot as plt\n",
    "import numpy as np\n",
    "import warnings\n",
    "warnings.filterwarnings('ignore')"
   ],
   "metadata": {
    "collapsed": false,
    "ExecuteTime": {
     "end_time": "2023-12-14T11:04:49.740387Z",
     "start_time": "2023-12-14T11:04:49.735620Z"
    }
   }
  },
  {
   "cell_type": "markdown",
   "source": [
    "# Digit regconizer\n",
    "\n",
    "**Task:** Classify grey-scale hand-written digits from 0 to 9. The images are 28 x 28 pixels. The training dataset is in csv format, has 42000 records with 784 features from pixel0 to pixel783.\n",
    "\n",
    "The strategy is to implement the linear model of K-Nearest Neighbors while the non-linear model is a CNN layers."
   ],
   "metadata": {
    "collapsed": false
   }
  },
  {
   "cell_type": "markdown",
   "source": [
    "## Data import"
   ],
   "metadata": {
    "collapsed": false
   }
  },
  {
   "cell_type": "code",
   "execution_count": 30,
   "outputs": [],
   "source": [
    "# Load both train and test sets\n",
    "train_master = pd.read_csv(\"../Assignment 1/digit-recognizer/train.csv\")\n",
    "test_master = pd.read_csv(\"../Assignment 1/digit-recognizer/test.csv\")\n",
    "\n",
    "train = train_master.copy().drop(\"label\", axis=1)\n",
    "label = train_master.label\n",
    "test = test_master.copy()"
   ],
   "metadata": {
    "collapsed": false,
    "ExecuteTime": {
     "end_time": "2023-12-14T08:24:43.584570Z",
     "start_time": "2023-12-14T08:24:41.904849Z"
    }
   }
  },
  {
   "cell_type": "code",
   "execution_count": 31,
   "outputs": [
    {
     "name": "stdout",
     "output_type": "stream",
     "text": [
      "(42000, 784)\n",
      "(42000,)\n",
      "(28000, 784)\n"
     ]
    }
   ],
   "source": [
    "print(train.shape)\n",
    "print(label.shape)\n",
    "print(test.shape)"
   ],
   "metadata": {
    "collapsed": false,
    "ExecuteTime": {
     "end_time": "2023-12-14T08:24:45.039105Z",
     "start_time": "2023-12-14T08:24:45.033091Z"
    }
   }
  },
  {
   "cell_type": "code",
   "execution_count": 32,
   "outputs": [
    {
     "data": {
      "text/plain": "   pixel0  pixel1  pixel2  pixel3  pixel4  pixel5  pixel6  pixel7  pixel8  \\\n0       0       0       0       0       0       0       0       0       0   \n1       0       0       0       0       0       0       0       0       0   \n2       0       0       0       0       0       0       0       0       0   \n3       0       0       0       0       0       0       0       0       0   \n4       0       0       0       0       0       0       0       0       0   \n\n   pixel9  ...  pixel774  pixel775  pixel776  pixel777  pixel778  pixel779  \\\n0       0  ...         0         0         0         0         0         0   \n1       0  ...         0         0         0         0         0         0   \n2       0  ...         0         0         0         0         0         0   \n3       0  ...         0         0         0         0         0         0   \n4       0  ...         0         0         0         0         0         0   \n\n   pixel780  pixel781  pixel782  pixel783  \n0         0         0         0         0  \n1         0         0         0         0  \n2         0         0         0         0  \n3         0         0         0         0  \n4         0         0         0         0  \n\n[5 rows x 784 columns]",
      "text/html": "<div>\n<style scoped>\n    .dataframe tbody tr th:only-of-type {\n        vertical-align: middle;\n    }\n\n    .dataframe tbody tr th {\n        vertical-align: top;\n    }\n\n    .dataframe thead th {\n        text-align: right;\n    }\n</style>\n<table border=\"1\" class=\"dataframe\">\n  <thead>\n    <tr style=\"text-align: right;\">\n      <th></th>\n      <th>pixel0</th>\n      <th>pixel1</th>\n      <th>pixel2</th>\n      <th>pixel3</th>\n      <th>pixel4</th>\n      <th>pixel5</th>\n      <th>pixel6</th>\n      <th>pixel7</th>\n      <th>pixel8</th>\n      <th>pixel9</th>\n      <th>...</th>\n      <th>pixel774</th>\n      <th>pixel775</th>\n      <th>pixel776</th>\n      <th>pixel777</th>\n      <th>pixel778</th>\n      <th>pixel779</th>\n      <th>pixel780</th>\n      <th>pixel781</th>\n      <th>pixel782</th>\n      <th>pixel783</th>\n    </tr>\n  </thead>\n  <tbody>\n    <tr>\n      <th>0</th>\n      <td>0</td>\n      <td>0</td>\n      <td>0</td>\n      <td>0</td>\n      <td>0</td>\n      <td>0</td>\n      <td>0</td>\n      <td>0</td>\n      <td>0</td>\n      <td>0</td>\n      <td>...</td>\n      <td>0</td>\n      <td>0</td>\n      <td>0</td>\n      <td>0</td>\n      <td>0</td>\n      <td>0</td>\n      <td>0</td>\n      <td>0</td>\n      <td>0</td>\n      <td>0</td>\n    </tr>\n    <tr>\n      <th>1</th>\n      <td>0</td>\n      <td>0</td>\n      <td>0</td>\n      <td>0</td>\n      <td>0</td>\n      <td>0</td>\n      <td>0</td>\n      <td>0</td>\n      <td>0</td>\n      <td>0</td>\n      <td>...</td>\n      <td>0</td>\n      <td>0</td>\n      <td>0</td>\n      <td>0</td>\n      <td>0</td>\n      <td>0</td>\n      <td>0</td>\n      <td>0</td>\n      <td>0</td>\n      <td>0</td>\n    </tr>\n    <tr>\n      <th>2</th>\n      <td>0</td>\n      <td>0</td>\n      <td>0</td>\n      <td>0</td>\n      <td>0</td>\n      <td>0</td>\n      <td>0</td>\n      <td>0</td>\n      <td>0</td>\n      <td>0</td>\n      <td>...</td>\n      <td>0</td>\n      <td>0</td>\n      <td>0</td>\n      <td>0</td>\n      <td>0</td>\n      <td>0</td>\n      <td>0</td>\n      <td>0</td>\n      <td>0</td>\n      <td>0</td>\n    </tr>\n    <tr>\n      <th>3</th>\n      <td>0</td>\n      <td>0</td>\n      <td>0</td>\n      <td>0</td>\n      <td>0</td>\n      <td>0</td>\n      <td>0</td>\n      <td>0</td>\n      <td>0</td>\n      <td>0</td>\n      <td>...</td>\n      <td>0</td>\n      <td>0</td>\n      <td>0</td>\n      <td>0</td>\n      <td>0</td>\n      <td>0</td>\n      <td>0</td>\n      <td>0</td>\n      <td>0</td>\n      <td>0</td>\n    </tr>\n    <tr>\n      <th>4</th>\n      <td>0</td>\n      <td>0</td>\n      <td>0</td>\n      <td>0</td>\n      <td>0</td>\n      <td>0</td>\n      <td>0</td>\n      <td>0</td>\n      <td>0</td>\n      <td>0</td>\n      <td>...</td>\n      <td>0</td>\n      <td>0</td>\n      <td>0</td>\n      <td>0</td>\n      <td>0</td>\n      <td>0</td>\n      <td>0</td>\n      <td>0</td>\n      <td>0</td>\n      <td>0</td>\n    </tr>\n  </tbody>\n</table>\n<p>5 rows × 784 columns</p>\n</div>"
     },
     "execution_count": 32,
     "metadata": {},
     "output_type": "execute_result"
    }
   ],
   "source": [
    "# Inspect a few rows\n",
    "train.head()"
   ],
   "metadata": {
    "collapsed": false,
    "ExecuteTime": {
     "end_time": "2023-12-14T08:24:46.805867Z",
     "start_time": "2023-12-14T08:24:46.787762Z"
    }
   }
  },
  {
   "cell_type": "code",
   "execution_count": 37,
   "outputs": [
    {
     "data": {
      "text/plain": "   pixel0  pixel1  pixel2  pixel3  pixel4  pixel5  pixel6  pixel7  pixel8  \\\n0       0       0       0       0       0       0       0       0       0   \n1       0       0       0       0       0       0       0       0       0   \n2       0       0       0       0       0       0       0       0       0   \n3       0       0       0       0       0       0       0       0       0   \n4       0       0       0       0       0       0       0       0       0   \n\n   pixel9  ...  pixel774  pixel775  pixel776  pixel777  pixel778  pixel779  \\\n0       0  ...         0         0         0         0         0         0   \n1       0  ...         0         0         0         0         0         0   \n2       0  ...         0         0         0         0         0         0   \n3       0  ...         0         0         0         0         0         0   \n4       0  ...         0         0         0         0         0         0   \n\n   pixel780  pixel781  pixel782  pixel783  \n0         0         0         0         0  \n1         0         0         0         0  \n2         0         0         0         0  \n3         0         0         0         0  \n4         0         0         0         0  \n\n[5 rows x 784 columns]",
      "text/html": "<div>\n<style scoped>\n    .dataframe tbody tr th:only-of-type {\n        vertical-align: middle;\n    }\n\n    .dataframe tbody tr th {\n        vertical-align: top;\n    }\n\n    .dataframe thead th {\n        text-align: right;\n    }\n</style>\n<table border=\"1\" class=\"dataframe\">\n  <thead>\n    <tr style=\"text-align: right;\">\n      <th></th>\n      <th>pixel0</th>\n      <th>pixel1</th>\n      <th>pixel2</th>\n      <th>pixel3</th>\n      <th>pixel4</th>\n      <th>pixel5</th>\n      <th>pixel6</th>\n      <th>pixel7</th>\n      <th>pixel8</th>\n      <th>pixel9</th>\n      <th>...</th>\n      <th>pixel774</th>\n      <th>pixel775</th>\n      <th>pixel776</th>\n      <th>pixel777</th>\n      <th>pixel778</th>\n      <th>pixel779</th>\n      <th>pixel780</th>\n      <th>pixel781</th>\n      <th>pixel782</th>\n      <th>pixel783</th>\n    </tr>\n  </thead>\n  <tbody>\n    <tr>\n      <th>0</th>\n      <td>0</td>\n      <td>0</td>\n      <td>0</td>\n      <td>0</td>\n      <td>0</td>\n      <td>0</td>\n      <td>0</td>\n      <td>0</td>\n      <td>0</td>\n      <td>0</td>\n      <td>...</td>\n      <td>0</td>\n      <td>0</td>\n      <td>0</td>\n      <td>0</td>\n      <td>0</td>\n      <td>0</td>\n      <td>0</td>\n      <td>0</td>\n      <td>0</td>\n      <td>0</td>\n    </tr>\n    <tr>\n      <th>1</th>\n      <td>0</td>\n      <td>0</td>\n      <td>0</td>\n      <td>0</td>\n      <td>0</td>\n      <td>0</td>\n      <td>0</td>\n      <td>0</td>\n      <td>0</td>\n      <td>0</td>\n      <td>...</td>\n      <td>0</td>\n      <td>0</td>\n      <td>0</td>\n      <td>0</td>\n      <td>0</td>\n      <td>0</td>\n      <td>0</td>\n      <td>0</td>\n      <td>0</td>\n      <td>0</td>\n    </tr>\n    <tr>\n      <th>2</th>\n      <td>0</td>\n      <td>0</td>\n      <td>0</td>\n      <td>0</td>\n      <td>0</td>\n      <td>0</td>\n      <td>0</td>\n      <td>0</td>\n      <td>0</td>\n      <td>0</td>\n      <td>...</td>\n      <td>0</td>\n      <td>0</td>\n      <td>0</td>\n      <td>0</td>\n      <td>0</td>\n      <td>0</td>\n      <td>0</td>\n      <td>0</td>\n      <td>0</td>\n      <td>0</td>\n    </tr>\n    <tr>\n      <th>3</th>\n      <td>0</td>\n      <td>0</td>\n      <td>0</td>\n      <td>0</td>\n      <td>0</td>\n      <td>0</td>\n      <td>0</td>\n      <td>0</td>\n      <td>0</td>\n      <td>0</td>\n      <td>...</td>\n      <td>0</td>\n      <td>0</td>\n      <td>0</td>\n      <td>0</td>\n      <td>0</td>\n      <td>0</td>\n      <td>0</td>\n      <td>0</td>\n      <td>0</td>\n      <td>0</td>\n    </tr>\n    <tr>\n      <th>4</th>\n      <td>0</td>\n      <td>0</td>\n      <td>0</td>\n      <td>0</td>\n      <td>0</td>\n      <td>0</td>\n      <td>0</td>\n      <td>0</td>\n      <td>0</td>\n      <td>0</td>\n      <td>...</td>\n      <td>0</td>\n      <td>0</td>\n      <td>0</td>\n      <td>0</td>\n      <td>0</td>\n      <td>0</td>\n      <td>0</td>\n      <td>0</td>\n      <td>0</td>\n      <td>0</td>\n    </tr>\n  </tbody>\n</table>\n<p>5 rows × 784 columns</p>\n</div>"
     },
     "execution_count": 37,
     "metadata": {},
     "output_type": "execute_result"
    }
   ],
   "source": [
    "# Inspect test set to be predicted later\n",
    "test.head()"
   ],
   "metadata": {
    "collapsed": false,
    "ExecuteTime": {
     "end_time": "2023-12-14T08:27:05.016405Z",
     "start_time": "2023-12-14T08:27:05.013683Z"
    }
   }
  },
  {
   "cell_type": "markdown",
   "source": [
    "## Splitting data"
   ],
   "metadata": {
    "collapsed": false
   }
  },
  {
   "cell_type": "code",
   "execution_count": 33,
   "outputs": [
    {
     "name": "stdout",
     "output_type": "stream",
     "text": [
      "(33600, 784)\n",
      "(8400, 784)\n"
     ]
    }
   ],
   "source": [
    "X_train, X_test, y_train, y_test = train_test_split(train, label, test_size=0.2, random_state=42)\n",
    "print(X_train.shape)\n",
    "print(X_test.shape)"
   ],
   "metadata": {
    "collapsed": false,
    "ExecuteTime": {
     "end_time": "2023-12-14T08:24:52.142147Z",
     "start_time": "2023-12-14T08:24:51.972942Z"
    }
   }
  },
  {
   "cell_type": "markdown",
   "source": [
    "## Traditional Machine learning"
   ],
   "metadata": {
    "collapsed": false
   }
  },
  {
   "cell_type": "code",
   "execution_count": 34,
   "outputs": [
    {
     "data": {
      "text/plain": "KNeighborsClassifier(n_neighbors=1)",
      "text/html": "<style>#sk-container-id-1 {color: black;}#sk-container-id-1 pre{padding: 0;}#sk-container-id-1 div.sk-toggleable {background-color: white;}#sk-container-id-1 label.sk-toggleable__label {cursor: pointer;display: block;width: 100%;margin-bottom: 0;padding: 0.3em;box-sizing: border-box;text-align: center;}#sk-container-id-1 label.sk-toggleable__label-arrow:before {content: \"▸\";float: left;margin-right: 0.25em;color: #696969;}#sk-container-id-1 label.sk-toggleable__label-arrow:hover:before {color: black;}#sk-container-id-1 div.sk-estimator:hover label.sk-toggleable__label-arrow:before {color: black;}#sk-container-id-1 div.sk-toggleable__content {max-height: 0;max-width: 0;overflow: hidden;text-align: left;background-color: #f0f8ff;}#sk-container-id-1 div.sk-toggleable__content pre {margin: 0.2em;color: black;border-radius: 0.25em;background-color: #f0f8ff;}#sk-container-id-1 input.sk-toggleable__control:checked~div.sk-toggleable__content {max-height: 200px;max-width: 100%;overflow: auto;}#sk-container-id-1 input.sk-toggleable__control:checked~label.sk-toggleable__label-arrow:before {content: \"▾\";}#sk-container-id-1 div.sk-estimator input.sk-toggleable__control:checked~label.sk-toggleable__label {background-color: #d4ebff;}#sk-container-id-1 div.sk-label input.sk-toggleable__control:checked~label.sk-toggleable__label {background-color: #d4ebff;}#sk-container-id-1 input.sk-hidden--visually {border: 0;clip: rect(1px 1px 1px 1px);clip: rect(1px, 1px, 1px, 1px);height: 1px;margin: -1px;overflow: hidden;padding: 0;position: absolute;width: 1px;}#sk-container-id-1 div.sk-estimator {font-family: monospace;background-color: #f0f8ff;border: 1px dotted black;border-radius: 0.25em;box-sizing: border-box;margin-bottom: 0.5em;}#sk-container-id-1 div.sk-estimator:hover {background-color: #d4ebff;}#sk-container-id-1 div.sk-parallel-item::after {content: \"\";width: 100%;border-bottom: 1px solid gray;flex-grow: 1;}#sk-container-id-1 div.sk-label:hover label.sk-toggleable__label {background-color: #d4ebff;}#sk-container-id-1 div.sk-serial::before {content: \"\";position: absolute;border-left: 1px solid gray;box-sizing: border-box;top: 0;bottom: 0;left: 50%;z-index: 0;}#sk-container-id-1 div.sk-serial {display: flex;flex-direction: column;align-items: center;background-color: white;padding-right: 0.2em;padding-left: 0.2em;position: relative;}#sk-container-id-1 div.sk-item {position: relative;z-index: 1;}#sk-container-id-1 div.sk-parallel {display: flex;align-items: stretch;justify-content: center;background-color: white;position: relative;}#sk-container-id-1 div.sk-item::before, #sk-container-id-1 div.sk-parallel-item::before {content: \"\";position: absolute;border-left: 1px solid gray;box-sizing: border-box;top: 0;bottom: 0;left: 50%;z-index: -1;}#sk-container-id-1 div.sk-parallel-item {display: flex;flex-direction: column;z-index: 1;position: relative;background-color: white;}#sk-container-id-1 div.sk-parallel-item:first-child::after {align-self: flex-end;width: 50%;}#sk-container-id-1 div.sk-parallel-item:last-child::after {align-self: flex-start;width: 50%;}#sk-container-id-1 div.sk-parallel-item:only-child::after {width: 0;}#sk-container-id-1 div.sk-dashed-wrapped {border: 1px dashed gray;margin: 0 0.4em 0.5em 0.4em;box-sizing: border-box;padding-bottom: 0.4em;background-color: white;}#sk-container-id-1 div.sk-label label {font-family: monospace;font-weight: bold;display: inline-block;line-height: 1.2em;}#sk-container-id-1 div.sk-label-container {text-align: center;}#sk-container-id-1 div.sk-container {/* jupyter's `normalize.less` sets `[hidden] { display: none; }` but bootstrap.min.css set `[hidden] { display: none !important; }` so we also need the `!important` here to be able to override the default hidden behavior on the sphinx rendered scikit-learn.org. See: https://github.com/scikit-learn/scikit-learn/issues/21755 */display: inline-block !important;position: relative;}#sk-container-id-1 div.sk-text-repr-fallback {display: none;}</style><div id=\"sk-container-id-1\" class=\"sk-top-container\"><div class=\"sk-text-repr-fallback\"><pre>KNeighborsClassifier(n_neighbors=1)</pre><b>In a Jupyter environment, please rerun this cell to show the HTML representation or trust the notebook. <br />On GitHub, the HTML representation is unable to render, please try loading this page with nbviewer.org.</b></div><div class=\"sk-container\" hidden><div class=\"sk-item\"><div class=\"sk-estimator sk-toggleable\"><input class=\"sk-toggleable__control sk-hidden--visually\" id=\"sk-estimator-id-1\" type=\"checkbox\" checked><label for=\"sk-estimator-id-1\" class=\"sk-toggleable__label sk-toggleable__label-arrow\">KNeighborsClassifier</label><div class=\"sk-toggleable__content\"><pre>KNeighborsClassifier(n_neighbors=1)</pre></div></div></div></div></div>"
     },
     "execution_count": 34,
     "metadata": {},
     "output_type": "execute_result"
    }
   ],
   "source": [
    "# K as 1 is enough\n",
    "knn = KNeighborsClassifier(n_neighbors=1)\n",
    "knn.fit(X_train, y_train)"
   ],
   "metadata": {
    "collapsed": false,
    "ExecuteTime": {
     "end_time": "2023-12-14T08:24:55.128386Z",
     "start_time": "2023-12-14T08:24:54.985403Z"
    }
   }
  },
  {
   "cell_type": "code",
   "execution_count": 35,
   "outputs": [
    {
     "data": {
      "text/plain": "array([8, 1, 9, ..., 3, 0, 9])"
     },
     "execution_count": 35,
     "metadata": {},
     "output_type": "execute_result"
    }
   ],
   "source": [
    "# Test\n",
    "y_pred = knn.predict(X_test.to_numpy())\n",
    "y_pred"
   ],
   "metadata": {
    "collapsed": false,
    "ExecuteTime": {
     "end_time": "2023-12-14T08:25:03.424157Z",
     "start_time": "2023-12-14T08:24:57.636372Z"
    }
   }
  },
  {
   "cell_type": "markdown",
   "source": [
    "### Evaluation"
   ],
   "metadata": {
    "collapsed": false
   }
  },
  {
   "cell_type": "code",
   "execution_count": 36,
   "outputs": [
    {
     "name": "stdout",
     "output_type": "stream",
     "text": [
      "              precision    recall  f1-score   support\n",
      "\n",
      "           0       0.98      0.99      0.99       816\n",
      "           1       0.97      1.00      0.98       909\n",
      "           2       0.98      0.95      0.97       846\n",
      "           3       0.97      0.96      0.96       937\n",
      "           4       0.98      0.97      0.97       839\n",
      "           5       0.96      0.96      0.96       702\n",
      "           6       0.98      0.99      0.98       785\n",
      "           7       0.96      0.97      0.96       893\n",
      "           8       0.98      0.94      0.96       835\n",
      "           9       0.94      0.96      0.95       838\n",
      "\n",
      "    accuracy                           0.97      8400\n",
      "   macro avg       0.97      0.97      0.97      8400\n",
      "weighted avg       0.97      0.97      0.97      8400\n",
      "\n"
     ]
    }
   ],
   "source": [
    "print(classification_report(y_test, y_pred))"
   ],
   "metadata": {
    "collapsed": false,
    "ExecuteTime": {
     "end_time": "2023-12-14T08:25:15.569518Z",
     "start_time": "2023-12-14T08:25:15.543017Z"
    }
   }
  },
  {
   "cell_type": "markdown",
   "source": [
    "> Comment: The KNN model performed quite well with an accuracy of 97%. This shalls be the baseline to compare the CNN model with."
   ],
   "metadata": {
    "collapsed": false
   }
  },
  {
   "cell_type": "markdown",
   "source": [
    "### Test model"
   ],
   "metadata": {
    "collapsed": false
   }
  },
  {
   "cell_type": "code",
   "execution_count": 39,
   "outputs": [],
   "source": [
    "test_predict = knn.predict(test.to_numpy())"
   ],
   "metadata": {
    "collapsed": false,
    "ExecuteTime": {
     "end_time": "2023-12-14T08:28:15.759455Z",
     "start_time": "2023-12-14T08:27:57.225192Z"
    }
   }
  },
  {
   "cell_type": "code",
   "execution_count": 40,
   "outputs": [
    {
     "name": "stdout",
     "output_type": "stream",
     "text": [
      "The digit is 4\n"
     ]
    },
    {
     "data": {
      "text/plain": "<Figure size 640x480 with 1 Axes>",
      "image/png": "[encoded data removed]"
     },
     "metadata": {},
     "output_type": "display_data"
    }
   ],
   "source": [
    "plt.imshow(test.iloc[1200].values.reshape(28, 28), cmap=\"gray\")\n",
    "print(f'The digit is {test_predict[1200]}')"
   ],
   "metadata": {
    "collapsed": false,
    "ExecuteTime": {
     "end_time": "2023-12-14T08:28:26.422695Z",
     "start_time": "2023-12-14T08:28:26.148463Z"
    }
   }
  },
  {
   "cell_type": "code",
   "execution_count": 41,
   "outputs": [
    {
     "name": "stdout",
     "output_type": "stream",
     "text": [
      "The digit is 1\n"
     ]
    },
    {
     "data": {
      "text/plain": "<Figure size 640x480 with 1 Axes>",
      "image/png": "[encoded data removed]"
     },
     "metadata": {},
     "output_type": "display_data"
    }
   ],
   "source": [
    "plt.imshow(test.iloc[5000].values.reshape(28, 28), cmap=\"gray\")\n",
    "print(f'The digit is {test_predict[5000]}')"
   ],
   "metadata": {
    "collapsed": false,
    "ExecuteTime": {
     "end_time": "2023-12-14T08:28:49.477228Z",
     "start_time": "2023-12-14T08:28:49.420044Z"
    }
   }
  },
  {
   "cell_type": "markdown",
   "source": [
    "> We can clearly see the linear model is able to detect digits quite well when we try a couple of examples."
   ],
   "metadata": {
    "collapsed": false
   }
  },
  {
   "cell_type": "markdown",
   "source": [
    "## CNN"
   ],
   "metadata": {
    "collapsed": false
   }
  },
  {
   "cell_type": "markdown",
   "source": [
    "### Processing data\n",
    "\n",
    "In building the CNN, it is a good idea to normalize the data and convert the label with one hot encoder."
   ],
   "metadata": {
    "collapsed": false
   }
  },
  {
   "cell_type": "code",
   "execution_count": 42,
   "outputs": [],
   "source": [
    "X_train_norm = X_train / 255\n",
    "X_test_norm = X_test / 255"
   ],
   "metadata": {
    "collapsed": false,
    "ExecuteTime": {
     "end_time": "2023-12-14T08:30:51.503039Z",
     "start_time": "2023-12-14T08:30:51.355748Z"
    }
   }
  },
  {
   "cell_type": "code",
   "execution_count": 43,
   "outputs": [],
   "source": [
    "n_classes = 10\n",
    "\n",
    "Y_train = to_categorical(y_train, n_classes)\n",
    "Y_test = to_categorical(y_test, n_classes)"
   ],
   "metadata": {
    "collapsed": false,
    "ExecuteTime": {
     "end_time": "2023-12-14T08:30:52.453064Z",
     "start_time": "2023-12-14T08:30:52.445455Z"
    }
   }
  },
  {
   "cell_type": "markdown",
   "source": [
    "### Define Model"
   ],
   "metadata": {
    "collapsed": false
   }
  },
  {
   "cell_type": "code",
   "execution_count": 44,
   "outputs": [
    {
     "name": "stdout",
     "output_type": "stream",
     "text": [
      "Model: \"sequential_4\"\n",
      "_________________________________________________________________\n",
      " Layer (type)                Output Shape              Param #   \n",
      "=================================================================\n",
      " dense_4 (Dense)             (None, 100)               78500     \n",
      "                                                                 \n",
      " dense_5 (Dense)             (None, 200)               20200     \n",
      "                                                                 \n",
      " dense_6 (Dense)             (None, 10)                2010      \n",
      "                                                                 \n",
      "=================================================================\n",
      "Total params: 100710 (393.40 KB)\n",
      "Trainable params: 100710 (393.40 KB)\n",
      "Non-trainable params: 0 (0.00 Byte)\n",
      "_________________________________________________________________\n"
     ]
    }
   ],
   "source": [
    "model = Sequential()\n",
    "\n",
    "model.add(Dense(100, input_shape=(784,), activation='relu'))\n",
    "model.add(Dense(200, activation='relu'))\n",
    "model.add(Dense(10, activation='softmax'))\n",
    "\n",
    "model.summary()"
   ],
   "metadata": {
    "collapsed": false,
    "ExecuteTime": {
     "end_time": "2023-12-14T08:31:32.600727Z",
     "start_time": "2023-12-14T08:31:32.526743Z"
    }
   }
  },
  {
   "cell_type": "markdown",
   "source": [
    "### Train model"
   ],
   "metadata": {
    "collapsed": false
   }
  },
  {
   "cell_type": "code",
   "execution_count": 51,
   "outputs": [
    {
     "name": "stdout",
     "output_type": "stream",
     "text": [
      "Epoch 1/20\n",
      "525/525 [==============================] - 1s 1ms/step - loss: 0.0046 - accuracy: 0.9990 - val_loss: 0.2845 - val_accuracy: 0.9763\n",
      "Epoch 2/20\n",
      "525/525 [==============================] - 1s 952us/step - loss: 0.0023 - accuracy: 0.9992 - val_loss: 0.3080 - val_accuracy: 0.9732\n",
      "Epoch 3/20\n",
      "525/525 [==============================] - 1s 1000us/step - loss: 6.8264e-04 - accuracy: 0.9998 - val_loss: 0.2964 - val_accuracy: 0.9756\n",
      "Epoch 4/20\n",
      "525/525 [==============================] - 1s 958us/step - loss: 3.2425e-04 - accuracy: 0.9999 - val_loss: 0.3186 - val_accuracy: 0.9745\n",
      "Epoch 5/20\n",
      "525/525 [==============================] - 1s 974us/step - loss: 0.0058 - accuracy: 0.9988 - val_loss: 0.3512 - val_accuracy: 0.9726\n",
      "Epoch 6/20\n",
      "525/525 [==============================] - 1s 987us/step - loss: 0.0100 - accuracy: 0.9979 - val_loss: 0.3575 - val_accuracy: 0.9740\n",
      "Epoch 7/20\n",
      "525/525 [==============================] - 1s 1ms/step - loss: 0.0020 - accuracy: 0.9994 - val_loss: 0.3698 - val_accuracy: 0.9742\n",
      "Epoch 8/20\n",
      "525/525 [==============================] - 1s 1ms/step - loss: 9.1767e-04 - accuracy: 0.9997 - val_loss: 0.3489 - val_accuracy: 0.9742\n",
      "Epoch 9/20\n",
      "525/525 [==============================] - 1s 1ms/step - loss: 2.2612e-04 - accuracy: 0.9999 - val_loss: 0.3656 - val_accuracy: 0.9739\n",
      "Epoch 10/20\n",
      "525/525 [==============================] - 1s 1ms/step - loss: 3.1769e-05 - accuracy: 1.0000 - val_loss: 0.3406 - val_accuracy: 0.9742\n",
      "Epoch 11/20\n",
      "525/525 [==============================] - 1s 1ms/step - loss: 5.2108e-06 - accuracy: 1.0000 - val_loss: 0.3433 - val_accuracy: 0.9742\n",
      "Epoch 12/20\n",
      "525/525 [==============================] - 1s 1ms/step - loss: 2.1093e-06 - accuracy: 1.0000 - val_loss: 0.3407 - val_accuracy: 0.9745\n",
      "Epoch 13/20\n",
      "525/525 [==============================] - 1s 962us/step - loss: 1.0097e-06 - accuracy: 1.0000 - val_loss: 0.3400 - val_accuracy: 0.9745\n",
      "Epoch 14/20\n",
      "525/525 [==============================] - 1s 971us/step - loss: 8.2741e-07 - accuracy: 1.0000 - val_loss: 0.3394 - val_accuracy: 0.9745\n",
      "Epoch 15/20\n",
      "525/525 [==============================] - 1s 1ms/step - loss: 6.8571e-07 - accuracy: 1.0000 - val_loss: 0.3388 - val_accuracy: 0.9746\n",
      "Epoch 16/20\n",
      "525/525 [==============================] - 1s 1ms/step - loss: 5.7403e-07 - accuracy: 1.0000 - val_loss: 0.3382 - val_accuracy: 0.9749\n",
      "Epoch 17/20\n",
      "525/525 [==============================] - 1s 1ms/step - loss: 4.8549e-07 - accuracy: 1.0000 - val_loss: 0.3377 - val_accuracy: 0.9751\n",
      "Epoch 18/20\n",
      "525/525 [==============================] - 1s 1ms/step - loss: 4.1055e-07 - accuracy: 1.0000 - val_loss: 0.3373 - val_accuracy: 0.9751\n",
      "Epoch 19/20\n",
      "525/525 [==============================] - 1s 985us/step - loss: 3.4624e-07 - accuracy: 1.0000 - val_loss: 0.3369 - val_accuracy: 0.9752\n",
      "Epoch 20/20\n",
      "525/525 [==============================] - 1s 1ms/step - loss: 2.9217e-07 - accuracy: 1.0000 - val_loss: 0.3364 - val_accuracy: 0.9752\n"
     ]
    },
    {
     "data": {
      "text/plain": "<keras.src.callbacks.History at 0x15ecb08d0>"
     },
     "execution_count": 51,
     "metadata": {},
     "output_type": "execute_result"
    }
   ],
   "source": [
    "model.compile(loss='categorical_crossentropy', metrics=['accuracy'], optimizer='adam')\n",
    "model.fit(X_train_norm, Y_train, batch_size=64, epochs=20, validation_data=(X_test_norm, Y_test))"
   ],
   "metadata": {
    "collapsed": false,
    "ExecuteTime": {
     "end_time": "2023-12-14T08:38:06.173672Z",
     "start_time": "2023-12-14T08:37:54.913533Z"
    }
   }
  },
  {
   "cell_type": "markdown",
   "source": [
    "> Comment:\n",
    "> So I tried to build a very simple CNN with 3 layers, an input then a calculation and finally an output layer with the first two have \"relu\" activation while the last has the \"softmax\".\n",
    "> After fitting the model, the accuracy of the CNN is closed to the accuracy of the KNN, around 97% depending on the epochs.\n",
    "> What I can say is: the digits classification task is rather simple and two models performed nearly similar to each others. However, in the next task with identify the dog breed from the image with larger amount of pixels. We will see how the CNN is better."
   ],
   "metadata": {
    "collapsed": false
   }
  },
  {
   "cell_type": "markdown",
   "source": [
    "### Test model"
   ],
   "metadata": {
    "collapsed": false
   }
  },
  {
   "cell_type": "code",
   "execution_count": 53,
   "outputs": [
    {
     "name": "stdout",
     "output_type": "stream",
     "text": [
      "875/875 [==============================] - 0s 326us/step\n"
     ]
    }
   ],
   "source": [
    "y_pred_cnn = model.predict(test)"
   ],
   "metadata": {
    "collapsed": false,
    "ExecuteTime": {
     "end_time": "2023-12-14T08:44:07.617870Z",
     "start_time": "2023-12-14T08:44:07.087884Z"
    }
   }
  },
  {
   "cell_type": "code",
   "execution_count": 54,
   "outputs": [
    {
     "name": "stdout",
     "output_type": "stream",
     "text": [
      "The digit is 0\n"
     ]
    },
    {
     "data": {
      "text/plain": "<Figure size 640x480 with 1 Axes>",
      "image/png": "[encoded data removed]"
     },
     "metadata": {},
     "output_type": "display_data"
    }
   ],
   "source": [
    "# Test the CNN model\n",
    "plt.imshow(test.iloc[1900].values.reshape(28, 28), cmap=\"gray\")\n",
    "print(f'The digit is {np.argmax(y_pred_cnn[1900])}')"
   ],
   "metadata": {
    "collapsed": false,
    "ExecuteTime": {
     "end_time": "2023-12-14T08:44:10.599275Z",
     "start_time": "2023-12-14T08:44:10.531048Z"
    }
   }
  },
  {
   "cell_type": "code",
   "execution_count": 55,
   "outputs": [
    {
     "name": "stdout",
     "output_type": "stream",
     "text": [
      "The digit is 3\n"
     ]
    },
    {
     "data": {
      "text/plain": "<Figure size 640x480 with 1 Axes>",
      "image/png": "[encoded data removed]"
     },
     "metadata": {},
     "output_type": "display_data"
    }
   ],
   "source": [
    "plt.imshow(test.iloc[6900].values.reshape(28, 28), cmap=\"gray\")\n",
    "print(f'The digit is {np.argmax(y_pred_cnn[6900])}')"
   ],
   "metadata": {
    "collapsed": false,
    "ExecuteTime": {
     "end_time": "2023-12-14T08:44:21.103626Z",
     "start_time": "2023-12-14T08:44:21.037250Z"
    }
   }
  },
  {
   "cell_type": "markdown",
   "source": [
    "# Dog breed\n",
    "\n",
    "**Task:** Classify different dog breeds from images. The images are in different pixels. The training dataset is a number of dog images with a csv file labelling which breed, there are 10222 images for training.\n",
    "\n",
    "The same strategy is implemented with one linear model of K-Nearest Neighbors while the non-linear model is a CNN layers."
   ],
   "metadata": {
    "collapsed": false
   }
  },
  {
   "cell_type": "code",
   "execution_count": 9,
   "outputs": [],
   "source": [
    "# Setting some variables\n",
    "train_path = \"../Assignment 1/dog-breed-identification/train/\"\n",
    "labels_path = \"../Assignment 1/dog-breed-identification/labels.csv\"\n",
    "img_size = [64, 64, 3]"
   ],
   "metadata": {
    "collapsed": false,
    "ExecuteTime": {
     "end_time": "2023-12-14T09:01:30.152219Z",
     "start_time": "2023-12-14T09:01:30.144727Z"
    }
   }
  },
  {
   "cell_type": "code",
   "execution_count": 16,
   "outputs": [
    {
     "name": "stdout",
     "output_type": "stream",
     "text": [
      "The number of images in the train folder is:    10222\r\n",
      "The number of images in the test folder is:    10357\r\n"
     ]
    }
   ],
   "source": [
    "# Print the number of images in folders\n",
    "!echo \"The number of images in the train folder is: $(ls dog-breed-identification/train/*.jpg | wc -l)\"\n",
    "!echo \"The number of images in the test folder is: $(ls dog-breed-identification/test/*.jpg | wc -l)\""
   ],
   "metadata": {
    "collapsed": false,
    "ExecuteTime": {
     "end_time": "2023-12-13T23:19:47.206250Z",
     "start_time": "2023-12-13T23:19:46.098108Z"
    }
   }
  },
  {
   "cell_type": "markdown",
   "source": [
    "## Data import"
   ],
   "metadata": {
    "collapsed": false
   }
  },
  {
   "cell_type": "code",
   "execution_count": 10,
   "outputs": [],
   "source": [
    "labels_master = pd.read_csv(\"../Assignment 1/dog-breed-identification/labels.csv\")\n",
    "labels = labels_master.copy()"
   ],
   "metadata": {
    "collapsed": false,
    "ExecuteTime": {
     "end_time": "2023-12-14T09:01:32.469510Z",
     "start_time": "2023-12-14T09:01:32.450306Z"
    }
   }
  },
  {
   "cell_type": "code",
   "execution_count": 18,
   "outputs": [
    {
     "data": {
      "text/plain": "10222"
     },
     "execution_count": 18,
     "metadata": {},
     "output_type": "execute_result"
    }
   ],
   "source": [
    "len(labels)"
   ],
   "metadata": {
    "collapsed": false,
    "ExecuteTime": {
     "end_time": "2023-12-13T23:19:47.226580Z",
     "start_time": "2023-12-13T23:19:47.218823Z"
    }
   }
  },
  {
   "cell_type": "code",
   "execution_count": 19,
   "outputs": [
    {
     "data": {
      "text/plain": "                                 id             breed\n0  000bec180eb18c7604dcecc8fe0dba07       boston_bull\n1  001513dfcb2ffafc82cccf4d8bbaba97             dingo\n2  001cdf01b096e06d78e9e5112d419397          pekinese\n3  00214f311d5d2247d5dfe4fe24b2303d          bluetick\n4  0021f9ceb3235effd7fcde7f7538ed62  golden_retriever",
      "text/html": "<div>\n<style scoped>\n    .dataframe tbody tr th:only-of-type {\n        vertical-align: middle;\n    }\n\n    .dataframe tbody tr th {\n        vertical-align: top;\n    }\n\n    .dataframe thead th {\n        text-align: right;\n    }\n</style>\n<table border=\"1\" class=\"dataframe\">\n  <thead>\n    <tr style=\"text-align: right;\">\n      <th></th>\n      <th>id</th>\n      <th>breed</th>\n    </tr>\n  </thead>\n  <tbody>\n    <tr>\n      <th>0</th>\n      <td>000bec180eb18c7604dcecc8fe0dba07</td>\n      <td>boston_bull</td>\n    </tr>\n    <tr>\n      <th>1</th>\n      <td>001513dfcb2ffafc82cccf4d8bbaba97</td>\n      <td>dingo</td>\n    </tr>\n    <tr>\n      <th>2</th>\n      <td>001cdf01b096e06d78e9e5112d419397</td>\n      <td>pekinese</td>\n    </tr>\n    <tr>\n      <th>3</th>\n      <td>00214f311d5d2247d5dfe4fe24b2303d</td>\n      <td>bluetick</td>\n    </tr>\n    <tr>\n      <th>4</th>\n      <td>0021f9ceb3235effd7fcde7f7538ed62</td>\n      <td>golden_retriever</td>\n    </tr>\n  </tbody>\n</table>\n</div>"
     },
     "execution_count": 19,
     "metadata": {},
     "output_type": "execute_result"
    }
   ],
   "source": [
    "labels.head()"
   ],
   "metadata": {
    "collapsed": false,
    "ExecuteTime": {
     "end_time": "2023-12-13T23:19:47.226749Z",
     "start_time": "2023-12-13T23:19:47.223340Z"
    }
   }
  },
  {
   "cell_type": "code",
   "execution_count": 11,
   "outputs": [
    {
     "data": {
      "text/plain": "              breed                                               path\n0       boston_bull  ../Assignment 1/dog-breed-identification/train...\n1             dingo  ../Assignment 1/dog-breed-identification/train...\n2          pekinese  ../Assignment 1/dog-breed-identification/train...\n3          bluetick  ../Assignment 1/dog-breed-identification/train...\n4  golden_retriever  ../Assignment 1/dog-breed-identification/train...",
      "text/html": "<div>\n<style scoped>\n    .dataframe tbody tr th:only-of-type {\n        vertical-align: middle;\n    }\n\n    .dataframe tbody tr th {\n        vertical-align: top;\n    }\n\n    .dataframe thead th {\n        text-align: right;\n    }\n</style>\n<table border=\"1\" class=\"dataframe\">\n  <thead>\n    <tr style=\"text-align: right;\">\n      <th></th>\n      <th>breed</th>\n      <th>path</th>\n    </tr>\n  </thead>\n  <tbody>\n    <tr>\n      <th>0</th>\n      <td>boston_bull</td>\n      <td>../Assignment 1/dog-breed-identification/train...</td>\n    </tr>\n    <tr>\n      <th>1</th>\n      <td>dingo</td>\n      <td>../Assignment 1/dog-breed-identification/train...</td>\n    </tr>\n    <tr>\n      <th>2</th>\n      <td>pekinese</td>\n      <td>../Assignment 1/dog-breed-identification/train...</td>\n    </tr>\n    <tr>\n      <th>3</th>\n      <td>bluetick</td>\n      <td>../Assignment 1/dog-breed-identification/train...</td>\n    </tr>\n    <tr>\n      <th>4</th>\n      <td>golden_retriever</td>\n      <td>../Assignment 1/dog-breed-identification/train...</td>\n    </tr>\n  </tbody>\n</table>\n</div>"
     },
     "execution_count": 11,
     "metadata": {},
     "output_type": "execute_result"
    }
   ],
   "source": [
    "# Adding the path to the dataframe for later use\n",
    "labels[\"path\"] = train_path + labels.id + \".jpg\"\n",
    "labels.drop(\"id\", axis=1, inplace=True)\n",
    "labels.head()"
   ],
   "metadata": {
    "collapsed": false,
    "ExecuteTime": {
     "end_time": "2023-12-14T09:01:34.675709Z",
     "start_time": "2023-12-14T09:01:34.667563Z"
    }
   }
  },
  {
   "cell_type": "code",
   "execution_count": 12,
   "outputs": [],
   "source": [
    "def create_dataframe(data: pd.DataFrame, img_size: list[int]):\n",
    "    \"\"\" Return a dataframe of pixels of images\n",
    "\n",
    "    Argument:\n",
    "    data: Dataframe with image paths and labels\n",
    "    img_size: pixel sizes\n",
    "    \"\"\"\n",
    "    all_images = []\n",
    "\n",
    "    # Transform each image to pixels array and add to one big array\n",
    "    for idx, row in tqdm(data.iterrows(), total=data.shape[0]):\n",
    "        img = load_img(row['path'], target_size=img_size)\n",
    "        array_img = img_to_array(img, dtype=np.uint8)\n",
    "        array_img_t = array_img.flatten()\n",
    "        all_images.append(array_img_t)\n",
    "\n",
    "    # Create a dataframe from pixels array\n",
    "    column_names = [f'pixel{num}' for num in range(len(all_images[0]))]\n",
    "    df = pd.DataFrame(all_images, columns=column_names)\n",
    "\n",
    "    return df"
   ],
   "metadata": {
    "collapsed": false,
    "ExecuteTime": {
     "end_time": "2023-12-14T09:01:38.375448Z",
     "start_time": "2023-12-14T09:01:38.369735Z"
    }
   }
  },
  {
   "cell_type": "code",
   "execution_count": 22,
   "outputs": [
    {
     "name": "stderr",
     "output_type": "stream",
     "text": [
      "100%|██████████| 10222/10222 [00:14<00:00, 709.54it/s]\n"
     ]
    }
   ],
   "source": [
    "X = create_dataframe(labels, img_size)\n",
    "#len(X)\n",
    "#X.head()"
   ],
   "metadata": {
    "collapsed": false,
    "ExecuteTime": {
     "end_time": "2023-12-13T23:26:40.451880Z",
     "start_time": "2023-12-13T23:19:47.235450Z"
    }
   }
  },
  {
   "cell_type": "code",
   "execution_count": 13,
   "outputs": [
    {
     "data": {
      "text/plain": "0         boston_bull\n1               dingo\n2            pekinese\n3            bluetick\n4    golden_retriever\nName: breed, dtype: object"
     },
     "execution_count": 13,
     "metadata": {},
     "output_type": "execute_result"
    }
   ],
   "source": [
    "y = labels.breed\n",
    "y.head()"
   ],
   "metadata": {
    "collapsed": false,
    "ExecuteTime": {
     "end_time": "2023-12-14T09:01:41.156879Z",
     "start_time": "2023-12-14T09:01:41.150256Z"
    }
   }
  },
  {
   "cell_type": "code",
   "execution_count": 14,
   "outputs": [
    {
     "data": {
      "text/plain": "120"
     },
     "execution_count": 14,
     "metadata": {},
     "output_type": "execute_result"
    }
   ],
   "source": [
    "y.nunique()"
   ],
   "metadata": {
    "collapsed": false,
    "ExecuteTime": {
     "end_time": "2023-12-14T09:01:43.065488Z",
     "start_time": "2023-12-14T09:01:43.059663Z"
    }
   }
  },
  {
   "cell_type": "code",
   "execution_count": 15,
   "outputs": [],
   "source": [
    "# Process the labels for CNN also\n",
    "le = LabelBinarizer()\n",
    "y_ohe = le.fit_transform(y)"
   ],
   "metadata": {
    "collapsed": false,
    "ExecuteTime": {
     "end_time": "2023-12-14T09:01:45.309774Z",
     "start_time": "2023-12-14T09:01:45.293787Z"
    }
   }
  },
  {
   "cell_type": "markdown",
   "source": [
    "## Splitting data"
   ],
   "metadata": {
    "collapsed": false
   }
  },
  {
   "cell_type": "code",
   "execution_count": 26,
   "outputs": [
    {
     "name": "stdout",
     "output_type": "stream",
     "text": [
      "(8177, 12288)\n",
      "(2045, 12288)\n"
     ]
    }
   ],
   "source": [
    "X_train_dog, X_test_dog, y_train_dog, y_test_dog = train_test_split(X, y_ohe, test_size=0.2, random_state=42)\n",
    "print(X_train_dog.shape)\n",
    "print(X_test_dog.shape)"
   ],
   "metadata": {
    "collapsed": false,
    "ExecuteTime": {
     "end_time": "2023-12-13T23:26:40.766256Z",
     "start_time": "2023-12-13T23:26:40.489443Z"
    }
   }
  },
  {
   "cell_type": "markdown",
   "source": [
    "## Traditional machine learning"
   ],
   "metadata": {
    "collapsed": false
   }
  },
  {
   "cell_type": "code",
   "execution_count": 27,
   "outputs": [],
   "source": [
    "# Initially testing if KNN is slow in training\n",
    "X_train_sample = X_train_dog[:1000]\n",
    "y_train_sample = y_train_dog[:1000]"
   ],
   "metadata": {
    "collapsed": false,
    "ExecuteTime": {
     "end_time": "2023-12-13T23:26:40.768016Z",
     "start_time": "2023-12-13T23:26:40.766564Z"
    }
   }
  },
  {
   "cell_type": "code",
   "execution_count": 28,
   "outputs": [
    {
     "data": {
      "text/plain": "KNeighborsClassifier(n_neighbors=1)",
      "text/html": "<style>#sk-container-id-2 {color: black;}#sk-container-id-2 pre{padding: 0;}#sk-container-id-2 div.sk-toggleable {background-color: white;}#sk-container-id-2 label.sk-toggleable__label {cursor: pointer;display: block;width: 100%;margin-bottom: 0;padding: 0.3em;box-sizing: border-box;text-align: center;}#sk-container-id-2 label.sk-toggleable__label-arrow:before {content: \"▸\";float: left;margin-right: 0.25em;color: #696969;}#sk-container-id-2 label.sk-toggleable__label-arrow:hover:before {color: black;}#sk-container-id-2 div.sk-estimator:hover label.sk-toggleable__label-arrow:before {color: black;}#sk-container-id-2 div.sk-toggleable__content {max-height: 0;max-width: 0;overflow: hidden;text-align: left;background-color: #f0f8ff;}#sk-container-id-2 div.sk-toggleable__content pre {margin: 0.2em;color: black;border-radius: 0.25em;background-color: #f0f8ff;}#sk-container-id-2 input.sk-toggleable__control:checked~div.sk-toggleable__content {max-height: 200px;max-width: 100%;overflow: auto;}#sk-container-id-2 input.sk-toggleable__control:checked~label.sk-toggleable__label-arrow:before {content: \"▾\";}#sk-container-id-2 div.sk-estimator input.sk-toggleable__control:checked~label.sk-toggleable__label {background-color: #d4ebff;}#sk-container-id-2 div.sk-label input.sk-toggleable__control:checked~label.sk-toggleable__label {background-color: #d4ebff;}#sk-container-id-2 input.sk-hidden--visually {border: 0;clip: rect(1px 1px 1px 1px);clip: rect(1px, 1px, 1px, 1px);height: 1px;margin: -1px;overflow: hidden;padding: 0;position: absolute;width: 1px;}#sk-container-id-2 div.sk-estimator {font-family: monospace;background-color: #f0f8ff;border: 1px dotted black;border-radius: 0.25em;box-sizing: border-box;margin-bottom: 0.5em;}#sk-container-id-2 div.sk-estimator:hover {background-color: #d4ebff;}#sk-container-id-2 div.sk-parallel-item::after {content: \"\";width: 100%;border-bottom: 1px solid gray;flex-grow: 1;}#sk-container-id-2 div.sk-label:hover label.sk-toggleable__label {background-color: #d4ebff;}#sk-container-id-2 div.sk-serial::before {content: \"\";position: absolute;border-left: 1px solid gray;box-sizing: border-box;top: 0;bottom: 0;left: 50%;z-index: 0;}#sk-container-id-2 div.sk-serial {display: flex;flex-direction: column;align-items: center;background-color: white;padding-right: 0.2em;padding-left: 0.2em;position: relative;}#sk-container-id-2 div.sk-item {position: relative;z-index: 1;}#sk-container-id-2 div.sk-parallel {display: flex;align-items: stretch;justify-content: center;background-color: white;position: relative;}#sk-container-id-2 div.sk-item::before, #sk-container-id-2 div.sk-parallel-item::before {content: \"\";position: absolute;border-left: 1px solid gray;box-sizing: border-box;top: 0;bottom: 0;left: 50%;z-index: -1;}#sk-container-id-2 div.sk-parallel-item {display: flex;flex-direction: column;z-index: 1;position: relative;background-color: white;}#sk-container-id-2 div.sk-parallel-item:first-child::after {align-self: flex-end;width: 50%;}#sk-container-id-2 div.sk-parallel-item:last-child::after {align-self: flex-start;width: 50%;}#sk-container-id-2 div.sk-parallel-item:only-child::after {width: 0;}#sk-container-id-2 div.sk-dashed-wrapped {border: 1px dashed gray;margin: 0 0.4em 0.5em 0.4em;box-sizing: border-box;padding-bottom: 0.4em;background-color: white;}#sk-container-id-2 div.sk-label label {font-family: monospace;font-weight: bold;display: inline-block;line-height: 1.2em;}#sk-container-id-2 div.sk-label-container {text-align: center;}#sk-container-id-2 div.sk-container {/* jupyter's `normalize.less` sets `[hidden] { display: none; }` but bootstrap.min.css set `[hidden] { display: none !important; }` so we also need the `!important` here to be able to override the default hidden behavior on the sphinx rendered scikit-learn.org. See: https://github.com/scikit-learn/scikit-learn/issues/21755 */display: inline-block !important;position: relative;}#sk-container-id-2 div.sk-text-repr-fallback {display: none;}</style><div id=\"sk-container-id-2\" class=\"sk-top-container\"><div class=\"sk-text-repr-fallback\"><pre>KNeighborsClassifier(n_neighbors=1)</pre><b>In a Jupyter environment, please rerun this cell to show the HTML representation or trust the notebook. <br />On GitHub, the HTML representation is unable to render, please try loading this page with nbviewer.org.</b></div><div class=\"sk-container\" hidden><div class=\"sk-item\"><div class=\"sk-estimator sk-toggleable\"><input class=\"sk-toggleable__control sk-hidden--visually\" id=\"sk-estimator-id-2\" type=\"checkbox\" checked><label for=\"sk-estimator-id-2\" class=\"sk-toggleable__label sk-toggleable__label-arrow\">KNeighborsClassifier</label><div class=\"sk-toggleable__content\"><pre>KNeighborsClassifier(n_neighbors=1)</pre></div></div></div></div></div>"
     },
     "execution_count": 28,
     "metadata": {},
     "output_type": "execute_result"
    }
   ],
   "source": [
    "knn_2 = KNeighborsClassifier(n_neighbors=1)\n",
    "#knn_2.fit(X_train_sample, y_train_sample)\n",
    "knn_2.fit(X_train_dog, y_train_dog)"
   ],
   "metadata": {
    "collapsed": false,
    "ExecuteTime": {
     "end_time": "2023-12-13T23:26:41.023435Z",
     "start_time": "2023-12-13T23:26:40.772976Z"
    }
   }
  },
  {
   "cell_type": "code",
   "execution_count": 29,
   "outputs": [],
   "source": [
    "y_pred_dog = knn_2.predict(X_test_dog.to_numpy())"
   ],
   "metadata": {
    "collapsed": false,
    "ExecuteTime": {
     "end_time": "2023-12-13T23:26:46.597983Z",
     "start_time": "2023-12-13T23:26:41.023866Z"
    }
   }
  },
  {
   "cell_type": "code",
   "execution_count": 30,
   "outputs": [
    {
     "data": {
      "text/plain": "0.033251833740831294"
     },
     "execution_count": 30,
     "metadata": {},
     "output_type": "execute_result"
    }
   ],
   "source": [
    "accuracy_score(y_test_dog, y_pred_dog)"
   ],
   "metadata": {
    "collapsed": false,
    "ExecuteTime": {
     "end_time": "2023-12-13T23:26:46.606804Z",
     "start_time": "2023-12-13T23:26:46.598451Z"
    }
   }
  },
  {
   "cell_type": "markdown",
   "source": [
    "> Comment: As we can clearly see, for the digits task, the KNN performed well but with a much more complex task like dog breed identification, it does not perform well at all."
   ],
   "metadata": {
    "collapsed": false
   }
  },
  {
   "cell_type": "markdown",
   "source": [
    "## CNN"
   ],
   "metadata": {
    "collapsed": false
   }
  },
  {
   "cell_type": "code",
   "execution_count": 16,
   "outputs": [],
   "source": [
    "def process_images(data: pd.DataFrame, img_size: list[int] = [224, 224]):\n",
    "    \"\"\" Return the pixels array for CNN\n",
    "\n",
    "    Argument:\n",
    "    data: Dataframe with image paths and labels\n",
    "    img_size: pixel sizes\n",
    "    \"\"\"\n",
    "\n",
    "    # Create a list to hold pixels\n",
    "    img_arrays = []\n",
    "\n",
    "    # Transform each image into pixels array\n",
    "    for _, row in tqdm(data.iterrows(), total=data.shape[0]):\n",
    "        img = load_img(row.path, target_size=img_size)\n",
    "        img_array = img_to_array(img, dtype=np.uint8)\n",
    "        img_arrays.append(img_array)\n",
    "\n",
    "    # Convert into a numpy array for the CNN\n",
    "    one_img_arr = np.array(img_arrays)\n",
    "    return one_img_arr"
   ],
   "metadata": {
    "collapsed": false,
    "ExecuteTime": {
     "end_time": "2023-12-14T09:01:50.154425Z",
     "start_time": "2023-12-14T09:01:50.148505Z"
    }
   }
  },
  {
   "cell_type": "code",
   "execution_count": 17,
   "outputs": [
    {
     "name": "stderr",
     "output_type": "stream",
     "text": [
      "100%|██████████| 10222/10222 [00:15<00:00, 677.88it/s]\n"
     ]
    }
   ],
   "source": [
    "X_cnn = process_images(labels)"
   ],
   "metadata": {
    "collapsed": false,
    "ExecuteTime": {
     "end_time": "2023-12-14T09:02:07.758493Z",
     "start_time": "2023-12-14T09:01:51.371008Z"
    }
   }
  },
  {
   "cell_type": "markdown",
   "source": [
    "> Comment: With KNN, the pixels size is very important because the higher the size, the longer it takes to convert into array and longer training time. With CNN, it is easier as it can deal with larger pixels size."
   ],
   "metadata": {
    "collapsed": false
   }
  },
  {
   "cell_type": "code",
   "execution_count": 18,
   "outputs": [],
   "source": [
    "X_train_dog_cnn, X_test_dog_cnn, y_train_dog_cnn, y_test_dog_cnn = train_test_split(X_cnn, y_ohe, test_size=.2, random_state=42)"
   ],
   "metadata": {
    "collapsed": false,
    "ExecuteTime": {
     "end_time": "2023-12-14T09:03:47.453596Z",
     "start_time": "2023-12-14T09:03:46.339400Z"
    }
   }
  },
  {
   "cell_type": "code",
   "execution_count": 19,
   "outputs": [],
   "source": [
    "# Normalize data\n",
    "X_train_dog_cnn = X_train_dog_cnn / 255\n",
    "X_test_dog_cnn = X_test_dog_cnn / 255"
   ],
   "metadata": {
    "collapsed": false,
    "ExecuteTime": {
     "end_time": "2023-12-14T09:04:10.875812Z",
     "start_time": "2023-12-14T09:03:48.315684Z"
    }
   }
  },
  {
   "cell_type": "code",
   "execution_count": 26,
   "outputs": [
    {
     "name": "stdout",
     "output_type": "stream",
     "text": [
      "Model: \"sequential_5\"\n",
      "_________________________________________________________________\n",
      " Layer (type)                Output Shape              Param #   \n",
      "=================================================================\n",
      " conv2d_11 (Conv2D)          (None, 224, 224, 32)      896       \n",
      "                                                                 \n",
      " max_pooling2d_11 (MaxPooli  (None, 112, 112, 32)      0         \n",
      " ng2D)                                                           \n",
      "                                                                 \n",
      " conv2d_12 (Conv2D)          (None, 112, 112, 64)      18496     \n",
      "                                                                 \n",
      " max_pooling2d_12 (MaxPooli  (None, 56, 56, 64)        0         \n",
      " ng2D)                                                           \n",
      "                                                                 \n",
      " conv2d_13 (Conv2D)          (None, 56, 56, 128)       73856     \n",
      "                                                                 \n",
      " max_pooling2d_13 (MaxPooli  (None, 28, 28, 128)       0         \n",
      " ng2D)                                                           \n",
      "                                                                 \n",
      " conv2d_14 (Conv2D)          (None, 28, 28, 256)       295168    \n",
      "                                                                 \n",
      " max_pooling2d_14 (MaxPooli  (None, 14, 14, 256)       0         \n",
      " ng2D)                                                           \n",
      "                                                                 \n",
      " conv2d_15 (Conv2D)          (None, 14, 14, 512)       1180160   \n",
      "                                                                 \n",
      " max_pooling2d_15 (MaxPooli  (None, 7, 7, 512)         0         \n",
      " ng2D)                                                           \n",
      "                                                                 \n",
      " flatten_5 (Flatten)         (None, 25088)             0         \n",
      "                                                                 \n",
      " dense_9 (Dense)             (None, 512)               12845568  \n",
      "                                                                 \n",
      " dense_10 (Dense)            (None, 120)               61560     \n",
      "                                                                 \n",
      "=================================================================\n",
      "Total params: 14475704 (55.22 MB)\n",
      "Trainable params: 14475704 (55.22 MB)\n",
      "Non-trainable params: 0 (0.00 Byte)\n",
      "_________________________________________________________________\n"
     ]
    }
   ],
   "source": [
    "model_2 = Sequential()\n",
    "\n",
    "model_2.add(Conv2D(32, (3, 3), activation=\"relu\", input_shape=(224, 224, 3), padding=\"same\"))\n",
    "model_2.add(MaxPooling2D(pool_size=(2, 2), strides=(2, 2)))\n",
    "model_2.add(Conv2D(64, (3, 3), activation=\"relu\", padding=\"same\"))\n",
    "model_2.add(MaxPooling2D(pool_size=(2, 2), strides=(2, 2)))\n",
    "model_2.add(Conv2D(128, (3, 3), activation=\"relu\", padding=\"same\"))\n",
    "model_2.add(MaxPooling2D(pool_size=(2, 2), strides=(2, 2)))\n",
    "model_2.add(Conv2D(256, (3, 3), activation=\"relu\", padding=\"same\"))\n",
    "model_2.add(MaxPooling2D(pool_size=(2, 2), strides=(2, 2)))\n",
    "model_2.add(Conv2D(512, (3, 3), activation=\"relu\", padding=\"same\"))\n",
    "model_2.add(MaxPooling2D(pool_size=(2, 2), strides=(2, 2)))\n",
    "\n",
    "model_2.add(Flatten())\n",
    "model_2.add(Dense(512, activation=\"relu\"))\n",
    "model_2.add(Dense(y.nunique(), activation=\"softmax\"))\n",
    "model_2.summary()"
   ],
   "metadata": {
    "collapsed": false,
    "ExecuteTime": {
     "end_time": "2023-12-14T10:28:47.642899Z",
     "start_time": "2023-12-14T10:28:47.523464Z"
    }
   }
  },
  {
   "cell_type": "code",
   "execution_count": 27,
   "outputs": [],
   "source": [
    "model_2.compile(loss='categorical_crossentropy', metrics=['accuracy'], optimizer='adam')"
   ],
   "metadata": {
    "collapsed": false,
    "ExecuteTime": {
     "end_time": "2023-12-14T10:28:51.995062Z",
     "start_time": "2023-12-14T10:28:51.988766Z"
    }
   }
  },
  {
   "cell_type": "code",
   "execution_count": 28,
   "outputs": [
    {
     "name": "stdout",
     "output_type": "stream",
     "text": [
      "Epoch 1/10\n",
      "128/128 [==============================] - 313s 2s/step - loss: 4.7931 - accuracy: 0.0088 - val_loss: 4.7850 - val_accuracy: 0.0098\n",
      "Epoch 2/10\n",
      "128/128 [==============================] - 347s 3s/step - loss: 4.7833 - accuracy: 0.0087 - val_loss: 4.7849 - val_accuracy: 0.0093\n",
      "Epoch 3/10\n",
      "128/128 [==============================] - 348s 3s/step - loss: 4.7823 - accuracy: 0.0098 - val_loss: 4.7837 - val_accuracy: 0.0176\n",
      "Epoch 4/10\n",
      "128/128 [==============================] - 366s 3s/step - loss: 4.7802 - accuracy: 0.0087 - val_loss: 4.7832 - val_accuracy: 0.0108\n",
      "Epoch 5/10\n",
      " 83/128 [==================>...........] - ETA: 1:55 - loss: 4.7767 - accuracy: 0.0115"
     ]
    },
    {
     "name": "stderr",
     "output_type": "stream",
     "text": [
      "Exception ignored in: <function WeakKeyDictionary.__init__.<locals>.remove at 0x17de56d40>\n",
      "Traceback (most recent call last):\n",
      "  File \"/Users/raydi/anaconda3/lib/python3.11/weakref.py\", line 369, in remove\n",
      "KeyboardInterrupt: \n",
      "\n",
      "KeyboardInterrupt\n",
      "\n"
     ]
    }
   ],
   "source": [
    "model_2.fit(X_train_dog_cnn, y_train_dog_cnn, batch_size=64, epochs=10, validation_data=(X_test_dog_cnn, y_test_dog_cnn))"
   ],
   "metadata": {
    "collapsed": false,
    "ExecuteTime": {
     "end_time": "2023-12-14T10:59:35.702457Z",
     "start_time": "2023-12-14T10:28:54.895446Z"
    }
   }
  },
  {
   "cell_type": "markdown",
   "source": [
    "> Comment: Build my own CNN model took a long time, so I try the transfer learning approach"
   ],
   "metadata": {
    "collapsed": false
   }
  },
  {
   "cell_type": "code",
   "execution_count": 51,
   "outputs": [],
   "source": [
    "# Credit to the HÜSEYIN CENİK team on kaggle for the following code\n",
    "def get_features(model_name, model_preprocessor, input_size, data: pd.DataFrame):\n",
    "    input_layer = Input(input_size)\n",
    "    preprocessor = model_preprocessor(input_layer)\n",
    "    base_model = model_name(weights='imagenet', include_top=False, input_shape=input_size)(preprocessor)\n",
    "    maxPool = MaxPooling2D()(base_model)\n",
    "    feature_extractor = Model(inputs=input_layer, outputs=maxPool)\n",
    "    feature_maps = feature_extractor.predict(data, verbose=1)\n",
    "    print('Feature maps shape:', feature_maps.shape)\n",
    "    return feature_maps"
   ],
   "metadata": {
    "collapsed": false,
    "ExecuteTime": {
     "end_time": "2023-12-14T11:23:13.377025Z",
     "start_time": "2023-12-14T11:23:13.375722Z"
    }
   }
  },
  {
   "cell_type": "code",
   "execution_count": 37,
   "outputs": [
    {
     "name": "stdout",
     "output_type": "stream",
     "text": [
      "Downloading data from https://storage.googleapis.com/tensorflow/keras-applications/inception_v3/inception_v3_weights_tf_dim_ordering_tf_kernels_notop.h5\n",
      "87910968/87910968 [==============================] - 57s 1us/step\n",
      "320/320 [==============================] - 290s 904ms/step\n",
      "Feature maps shape: (10222, 2, 2, 2048)\n"
     ]
    }
   ],
   "source": [
    "features = get_features(InceptionV3, inception_preprocess, [224, 224, 3], X_cnn)"
   ],
   "metadata": {
    "collapsed": false,
    "ExecuteTime": {
     "end_time": "2023-12-14T11:11:50.159312Z",
     "start_time": "2023-12-14T11:05:49.650772Z"
    }
   }
  },
  {
   "cell_type": "code",
   "execution_count": 38,
   "outputs": [],
   "source": [
    "X_train_tf, X_test_tf, y_train_tf, y_test_tf = train_test_split(features, y_ohe, test_size=.2, random_state=42)"
   ],
   "metadata": {
    "collapsed": false,
    "ExecuteTime": {
     "end_time": "2023-12-14T11:12:19.785372Z",
     "start_time": "2023-12-14T11:12:19.604381Z"
    }
   }
  },
  {
   "cell_type": "code",
   "execution_count": 45,
   "outputs": [
    {
     "name": "stdout",
     "output_type": "stream",
     "text": [
      "Model: \"sequential_11\"\n",
      "_________________________________________________________________\n",
      " Layer (type)                Output Shape              Param #   \n",
      "=================================================================\n",
      " flatten_9 (Flatten)         (None, 8192)              0         \n",
      "                                                                 \n",
      " dropout_3 (Dropout)         (None, 8192)              0         \n",
      "                                                                 \n",
      " dense_17 (Dense)            (None, 128)               1048704   \n",
      "                                                                 \n",
      " dense_18 (Dense)            (None, 120)               15480     \n",
      "                                                                 \n",
      "=================================================================\n",
      "Total params: 1064184 (4.06 MB)\n",
      "Trainable params: 1064184 (4.06 MB)\n",
      "Non-trainable params: 0 (0.00 Byte)\n",
      "_________________________________________________________________\n"
     ]
    }
   ],
   "source": [
    "model_3 = Sequential()\n",
    "\n",
    "model_3.add(Input(X_train_tf.shape[1:]))\n",
    "model_3.add(Flatten())\n",
    "model_3.add(Dropout(0.2))\n",
    "model_3.add(Dense(128, activation=\"relu\"))\n",
    "model_3.add(Dense(y.nunique(), activation=\"softmax\"))\n",
    "\n",
    "model_3.summary()"
   ],
   "metadata": {
    "collapsed": false,
    "ExecuteTime": {
     "end_time": "2023-12-14T11:14:12.844768Z",
     "start_time": "2023-12-14T11:14:12.806050Z"
    }
   }
  },
  {
   "cell_type": "code",
   "execution_count": 46,
   "outputs": [],
   "source": [
    "model_3.compile(loss='categorical_crossentropy', metrics=['accuracy'], optimizer='adam')"
   ],
   "metadata": {
    "collapsed": false,
    "ExecuteTime": {
     "end_time": "2023-12-14T11:14:19.714007Z",
     "start_time": "2023-12-14T11:14:19.709457Z"
    }
   }
  },
  {
   "cell_type": "code",
   "execution_count": 50,
   "outputs": [
    {
     "name": "stdout",
     "output_type": "stream",
     "text": [
      "Epoch 1/20\n",
      "128/128 [==============================] - 1s 4ms/step - loss: 0.0541 - accuracy: 0.9850 - val_loss: 3.7963 - val_accuracy: 0.7330\n",
      "Epoch 2/20\n",
      "128/128 [==============================] - 0s 4ms/step - loss: 0.0661 - accuracy: 0.9828 - val_loss: 3.7289 - val_accuracy: 0.7203\n",
      "Epoch 3/20\n",
      "128/128 [==============================] - 1s 4ms/step - loss: 0.0602 - accuracy: 0.9852 - val_loss: 3.7758 - val_accuracy: 0.7188\n",
      "Epoch 4/20\n",
      "128/128 [==============================] - 1s 4ms/step - loss: 0.0324 - accuracy: 0.9902 - val_loss: 3.6643 - val_accuracy: 0.7350\n",
      "Epoch 5/20\n",
      "128/128 [==============================] - 0s 4ms/step - loss: 0.0561 - accuracy: 0.9835 - val_loss: 3.6609 - val_accuracy: 0.7247\n",
      "Epoch 6/20\n",
      "128/128 [==============================] - 0s 4ms/step - loss: 0.0343 - accuracy: 0.9908 - val_loss: 3.7189 - val_accuracy: 0.7311\n",
      "Epoch 7/20\n",
      "128/128 [==============================] - 0s 4ms/step - loss: 0.0385 - accuracy: 0.9895 - val_loss: 3.8243 - val_accuracy: 0.7355\n",
      "Epoch 8/20\n",
      "128/128 [==============================] - 1s 4ms/step - loss: 0.0431 - accuracy: 0.9878 - val_loss: 4.2113 - val_accuracy: 0.7428\n",
      "Epoch 9/20\n",
      "128/128 [==============================] - 0s 4ms/step - loss: 0.0428 - accuracy: 0.9890 - val_loss: 3.8037 - val_accuracy: 0.7237\n",
      "Epoch 10/20\n",
      "128/128 [==============================] - 0s 4ms/step - loss: 0.0460 - accuracy: 0.9875 - val_loss: 4.0141 - val_accuracy: 0.7291\n",
      "Epoch 11/20\n",
      "128/128 [==============================] - 0s 4ms/step - loss: 0.0553 - accuracy: 0.9864 - val_loss: 3.9493 - val_accuracy: 0.7242\n",
      "Epoch 12/20\n",
      "128/128 [==============================] - 0s 4ms/step - loss: 0.0692 - accuracy: 0.9820 - val_loss: 3.7860 - val_accuracy: 0.7198\n",
      "Epoch 13/20\n",
      "128/128 [==============================] - 0s 4ms/step - loss: 0.0440 - accuracy: 0.9903 - val_loss: 3.8783 - val_accuracy: 0.7301\n",
      "Epoch 14/20\n",
      "128/128 [==============================] - 1s 4ms/step - loss: 0.0411 - accuracy: 0.9880 - val_loss: 4.0537 - val_accuracy: 0.7296\n",
      "Epoch 15/20\n",
      "128/128 [==============================] - 1s 5ms/step - loss: 0.0657 - accuracy: 0.9851 - val_loss: 4.2664 - val_accuracy: 0.7281\n",
      "Epoch 16/20\n",
      "128/128 [==============================] - 0s 4ms/step - loss: 0.0319 - accuracy: 0.9901 - val_loss: 3.8590 - val_accuracy: 0.7399\n",
      "Epoch 17/20\n",
      "128/128 [==============================] - 1s 4ms/step - loss: 0.0443 - accuracy: 0.9885 - val_loss: 4.1621 - val_accuracy: 0.7315\n",
      "Epoch 18/20\n",
      "128/128 [==============================] - 0s 4ms/step - loss: 0.0307 - accuracy: 0.9921 - val_loss: 4.3859 - val_accuracy: 0.7301\n",
      "Epoch 19/20\n",
      "128/128 [==============================] - 0s 4ms/step - loss: 0.0622 - accuracy: 0.9845 - val_loss: 4.0636 - val_accuracy: 0.7267\n",
      "Epoch 20/20\n",
      "128/128 [==============================] - 0s 4ms/step - loss: 0.0489 - accuracy: 0.9875 - val_loss: 4.4880 - val_accuracy: 0.7252\n"
     ]
    },
    {
     "data": {
      "text/plain": "<keras.src.callbacks.History at 0x14a701390>"
     },
     "execution_count": 50,
     "metadata": {},
     "output_type": "execute_result"
    }
   ],
   "source": [
    "model_3.fit(X_train_tf, y_train_tf, batch_size=64, epochs=20, validation_data=(X_test_tf, y_test_tf))"
   ],
   "metadata": {
    "collapsed": false,
    "ExecuteTime": {
     "end_time": "2023-12-14T11:15:50.664855Z",
     "start_time": "2023-12-14T11:15:40.406431Z"
    }
   }
  },
  {
   "cell_type": "markdown",
   "source": [
    "> Comment: as we can see the accuracy of the new model performs really well."
   ],
   "metadata": {
    "collapsed": false
   }
  },
  {
   "cell_type": "markdown",
   "source": [],
   "metadata": {
    "collapsed": false
   }
  },
  {
   "cell_type": "markdown",
   "source": [],
   "metadata": {
    "collapsed": false
   }
  }
 ],
 "metadata": {
  "kernelspec": {
   "display_name": "Python 3",
   "language": "python",
   "name": "python3"
  },
  "language_info": {
   "codemirror_mode": {
    "name": "ipython",
    "version": 2
   },
   "file_extension": ".py",
   "mimetype": "text/x-python",
   "name": "python",
   "nbconvert_exporter": "python",
   "pygments_lexer": "ipython2",
   "version": "2.7.6"
  }
 },
 "nbformat": 4,
 "nbformat_minor": 0
}
