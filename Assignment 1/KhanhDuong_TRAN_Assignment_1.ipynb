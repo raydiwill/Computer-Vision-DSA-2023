{
 "cells": [
  {
   "cell_type": "markdown",
   "source": [
    "## Import libraries"
   ],
   "metadata": {
    "collapsed": false
   }
  },
  {
   "cell_type": "code",
   "execution_count": 33,
   "outputs": [],
   "source": [
    "from sklearn.neighbors import KNeighborsClassifier\n",
    "from sklearn.model_selection import train_test_split\n",
    "from sklearn.metrics import classification_report\n",
    "from tensorflow.keras.models import Sequential\n",
    "from tensorflow.keras.layers import (Dense, Dropout, Conv2D, MaxPool2D)\n",
    "from keras.preprocessing.image import load_img, img_to_array\n",
    "from sklearn.preprocessing import LabelBinarizer\n",
    "from tensorflow.keras.optimizers import Adam\n",
    "from keras.utils import to_categorical\n",
    "from tqdm import tqdm\n",
    "import pandas as pd\n",
    "import matplotlib.pyplot as plt\n",
    "import numpy as np\n",
    "import warnings\n",
    "warnings.filterwarnings('ignore')"
   ],
   "metadata": {
    "collapsed": false,
    "ExecuteTime": {
     "end_time": "2023-12-13T17:58:38.113317Z",
     "start_time": "2023-12-13T17:58:38.109293Z"
    }
   }
  },
  {
   "cell_type": "markdown",
   "source": [
    "# Digit regconizer"
   ],
   "metadata": {
    "collapsed": false
   }
  },
  {
   "cell_type": "markdown",
   "source": [
    "## Data import"
   ],
   "metadata": {
    "collapsed": false
   }
  },
  {
   "cell_type": "code",
   "execution_count": 2,
   "outputs": [],
   "source": [
    "train_master = pd.read_csv(\"../Assignment 1/digit-recognizer/train.csv\")\n",
    "test_master = pd.read_csv(\"../Assignment 1/digit-recognizer/test.csv\")\n",
    "\n",
    "train = train_master.copy().drop(\"label\", axis=1)\n",
    "label = train_master.label\n",
    "test = test_master.copy()"
   ],
   "metadata": {
    "collapsed": false,
    "ExecuteTime": {
     "end_time": "2023-12-13T17:36:02.923443Z",
     "start_time": "2023-12-13T17:36:01.200952Z"
    }
   }
  },
  {
   "cell_type": "code",
   "execution_count": 3,
   "outputs": [
    {
     "name": "stdout",
     "output_type": "stream",
     "text": [
      "(42000, 784)\n",
      "(42000,)\n",
      "(28000, 784)\n"
     ]
    }
   ],
   "source": [
    "print(train.shape)\n",
    "print(label.shape)\n",
    "print(test.shape)"
   ],
   "metadata": {
    "collapsed": false,
    "ExecuteTime": {
     "end_time": "2023-12-13T17:36:04.567924Z",
     "start_time": "2023-12-13T17:36:04.563667Z"
    }
   }
  },
  {
   "cell_type": "code",
   "execution_count": 4,
   "outputs": [
    {
     "data": {
      "text/plain": "   pixel0  pixel1  pixel2  pixel3  pixel4  pixel5  pixel6  pixel7  pixel8  \\\n0       0       0       0       0       0       0       0       0       0   \n1       0       0       0       0       0       0       0       0       0   \n2       0       0       0       0       0       0       0       0       0   \n3       0       0       0       0       0       0       0       0       0   \n4       0       0       0       0       0       0       0       0       0   \n\n   pixel9  ...  pixel774  pixel775  pixel776  pixel777  pixel778  pixel779  \\\n0       0  ...         0         0         0         0         0         0   \n1       0  ...         0         0         0         0         0         0   \n2       0  ...         0         0         0         0         0         0   \n3       0  ...         0         0         0         0         0         0   \n4       0  ...         0         0         0         0         0         0   \n\n   pixel780  pixel781  pixel782  pixel783  \n0         0         0         0         0  \n1         0         0         0         0  \n2         0         0         0         0  \n3         0         0         0         0  \n4         0         0         0         0  \n\n[5 rows x 784 columns]",
      "text/html": "<div>\n<style scoped>\n    .dataframe tbody tr th:only-of-type {\n        vertical-align: middle;\n    }\n\n    .dataframe tbody tr th {\n        vertical-align: top;\n    }\n\n    .dataframe thead th {\n        text-align: right;\n    }\n</style>\n<table border=\"1\" class=\"dataframe\">\n  <thead>\n    <tr style=\"text-align: right;\">\n      <th></th>\n      <th>pixel0</th>\n      <th>pixel1</th>\n      <th>pixel2</th>\n      <th>pixel3</th>\n      <th>pixel4</th>\n      <th>pixel5</th>\n      <th>pixel6</th>\n      <th>pixel7</th>\n      <th>pixel8</th>\n      <th>pixel9</th>\n      <th>...</th>\n      <th>pixel774</th>\n      <th>pixel775</th>\n      <th>pixel776</th>\n      <th>pixel777</th>\n      <th>pixel778</th>\n      <th>pixel779</th>\n      <th>pixel780</th>\n      <th>pixel781</th>\n      <th>pixel782</th>\n      <th>pixel783</th>\n    </tr>\n  </thead>\n  <tbody>\n    <tr>\n      <th>0</th>\n      <td>0</td>\n      <td>0</td>\n      <td>0</td>\n      <td>0</td>\n      <td>0</td>\n      <td>0</td>\n      <td>0</td>\n      <td>0</td>\n      <td>0</td>\n      <td>0</td>\n      <td>...</td>\n      <td>0</td>\n      <td>0</td>\n      <td>0</td>\n      <td>0</td>\n      <td>0</td>\n      <td>0</td>\n      <td>0</td>\n      <td>0</td>\n      <td>0</td>\n      <td>0</td>\n    </tr>\n    <tr>\n      <th>1</th>\n      <td>0</td>\n      <td>0</td>\n      <td>0</td>\n      <td>0</td>\n      <td>0</td>\n      <td>0</td>\n      <td>0</td>\n      <td>0</td>\n      <td>0</td>\n      <td>0</td>\n      <td>...</td>\n      <td>0</td>\n      <td>0</td>\n      <td>0</td>\n      <td>0</td>\n      <td>0</td>\n      <td>0</td>\n      <td>0</td>\n      <td>0</td>\n      <td>0</td>\n      <td>0</td>\n    </tr>\n    <tr>\n      <th>2</th>\n      <td>0</td>\n      <td>0</td>\n      <td>0</td>\n      <td>0</td>\n      <td>0</td>\n      <td>0</td>\n      <td>0</td>\n      <td>0</td>\n      <td>0</td>\n      <td>0</td>\n      <td>...</td>\n      <td>0</td>\n      <td>0</td>\n      <td>0</td>\n      <td>0</td>\n      <td>0</td>\n      <td>0</td>\n      <td>0</td>\n      <td>0</td>\n      <td>0</td>\n      <td>0</td>\n    </tr>\n    <tr>\n      <th>3</th>\n      <td>0</td>\n      <td>0</td>\n      <td>0</td>\n      <td>0</td>\n      <td>0</td>\n      <td>0</td>\n      <td>0</td>\n      <td>0</td>\n      <td>0</td>\n      <td>0</td>\n      <td>...</td>\n      <td>0</td>\n      <td>0</td>\n      <td>0</td>\n      <td>0</td>\n      <td>0</td>\n      <td>0</td>\n      <td>0</td>\n      <td>0</td>\n      <td>0</td>\n      <td>0</td>\n    </tr>\n    <tr>\n      <th>4</th>\n      <td>0</td>\n      <td>0</td>\n      <td>0</td>\n      <td>0</td>\n      <td>0</td>\n      <td>0</td>\n      <td>0</td>\n      <td>0</td>\n      <td>0</td>\n      <td>0</td>\n      <td>...</td>\n      <td>0</td>\n      <td>0</td>\n      <td>0</td>\n      <td>0</td>\n      <td>0</td>\n      <td>0</td>\n      <td>0</td>\n      <td>0</td>\n      <td>0</td>\n      <td>0</td>\n    </tr>\n  </tbody>\n</table>\n<p>5 rows × 784 columns</p>\n</div>"
     },
     "execution_count": 4,
     "metadata": {},
     "output_type": "execute_result"
    }
   ],
   "source": [
    "train.head()"
   ],
   "metadata": {
    "collapsed": false,
    "ExecuteTime": {
     "end_time": "2023-12-13T17:36:06.845012Z",
     "start_time": "2023-12-13T17:36:06.835660Z"
    }
   }
  },
  {
   "cell_type": "markdown",
   "source": [
    "## Splitting data"
   ],
   "metadata": {
    "collapsed": false
   }
  },
  {
   "cell_type": "code",
   "execution_count": 5,
   "outputs": [
    {
     "name": "stdout",
     "output_type": "stream",
     "text": [
      "(33600, 784)\n",
      "<class 'pandas.core.frame.DataFrame'>\n",
      "(8400, 784)\n",
      "<class 'pandas.core.frame.DataFrame'>\n"
     ]
    }
   ],
   "source": [
    "X_train, X_test, y_train, y_test = train_test_split(train, label, test_size=0.2, random_state=42)\n",
    "print(X_train.shape)\n",
    "print(type(X_train))\n",
    "print(X_test.shape)\n",
    "print(type(X_test))"
   ],
   "metadata": {
    "collapsed": false,
    "ExecuteTime": {
     "end_time": "2023-12-13T17:36:10.876706Z",
     "start_time": "2023-12-13T17:36:10.725917Z"
    }
   }
  },
  {
   "cell_type": "markdown",
   "source": [
    "## Traditional Machine learning"
   ],
   "metadata": {
    "collapsed": false
   }
  },
  {
   "cell_type": "code",
   "execution_count": 6,
   "outputs": [
    {
     "data": {
      "text/plain": "KNeighborsClassifier(n_neighbors=1)",
      "text/html": "<style>#sk-container-id-1 {color: black;}#sk-container-id-1 pre{padding: 0;}#sk-container-id-1 div.sk-toggleable {background-color: white;}#sk-container-id-1 label.sk-toggleable__label {cursor: pointer;display: block;width: 100%;margin-bottom: 0;padding: 0.3em;box-sizing: border-box;text-align: center;}#sk-container-id-1 label.sk-toggleable__label-arrow:before {content: \"▸\";float: left;margin-right: 0.25em;color: #696969;}#sk-container-id-1 label.sk-toggleable__label-arrow:hover:before {color: black;}#sk-container-id-1 div.sk-estimator:hover label.sk-toggleable__label-arrow:before {color: black;}#sk-container-id-1 div.sk-toggleable__content {max-height: 0;max-width: 0;overflow: hidden;text-align: left;background-color: #f0f8ff;}#sk-container-id-1 div.sk-toggleable__content pre {margin: 0.2em;color: black;border-radius: 0.25em;background-color: #f0f8ff;}#sk-container-id-1 input.sk-toggleable__control:checked~div.sk-toggleable__content {max-height: 200px;max-width: 100%;overflow: auto;}#sk-container-id-1 input.sk-toggleable__control:checked~label.sk-toggleable__label-arrow:before {content: \"▾\";}#sk-container-id-1 div.sk-estimator input.sk-toggleable__control:checked~label.sk-toggleable__label {background-color: #d4ebff;}#sk-container-id-1 div.sk-label input.sk-toggleable__control:checked~label.sk-toggleable__label {background-color: #d4ebff;}#sk-container-id-1 input.sk-hidden--visually {border: 0;clip: rect(1px 1px 1px 1px);clip: rect(1px, 1px, 1px, 1px);height: 1px;margin: -1px;overflow: hidden;padding: 0;position: absolute;width: 1px;}#sk-container-id-1 div.sk-estimator {font-family: monospace;background-color: #f0f8ff;border: 1px dotted black;border-radius: 0.25em;box-sizing: border-box;margin-bottom: 0.5em;}#sk-container-id-1 div.sk-estimator:hover {background-color: #d4ebff;}#sk-container-id-1 div.sk-parallel-item::after {content: \"\";width: 100%;border-bottom: 1px solid gray;flex-grow: 1;}#sk-container-id-1 div.sk-label:hover label.sk-toggleable__label {background-color: #d4ebff;}#sk-container-id-1 div.sk-serial::before {content: \"\";position: absolute;border-left: 1px solid gray;box-sizing: border-box;top: 0;bottom: 0;left: 50%;z-index: 0;}#sk-container-id-1 div.sk-serial {display: flex;flex-direction: column;align-items: center;background-color: white;padding-right: 0.2em;padding-left: 0.2em;position: relative;}#sk-container-id-1 div.sk-item {position: relative;z-index: 1;}#sk-container-id-1 div.sk-parallel {display: flex;align-items: stretch;justify-content: center;background-color: white;position: relative;}#sk-container-id-1 div.sk-item::before, #sk-container-id-1 div.sk-parallel-item::before {content: \"\";position: absolute;border-left: 1px solid gray;box-sizing: border-box;top: 0;bottom: 0;left: 50%;z-index: -1;}#sk-container-id-1 div.sk-parallel-item {display: flex;flex-direction: column;z-index: 1;position: relative;background-color: white;}#sk-container-id-1 div.sk-parallel-item:first-child::after {align-self: flex-end;width: 50%;}#sk-container-id-1 div.sk-parallel-item:last-child::after {align-self: flex-start;width: 50%;}#sk-container-id-1 div.sk-parallel-item:only-child::after {width: 0;}#sk-container-id-1 div.sk-dashed-wrapped {border: 1px dashed gray;margin: 0 0.4em 0.5em 0.4em;box-sizing: border-box;padding-bottom: 0.4em;background-color: white;}#sk-container-id-1 div.sk-label label {font-family: monospace;font-weight: bold;display: inline-block;line-height: 1.2em;}#sk-container-id-1 div.sk-label-container {text-align: center;}#sk-container-id-1 div.sk-container {/* jupyter's `normalize.less` sets `[hidden] { display: none; }` but bootstrap.min.css set `[hidden] { display: none !important; }` so we also need the `!important` here to be able to override the default hidden behavior on the sphinx rendered scikit-learn.org. See: https://github.com/scikit-learn/scikit-learn/issues/21755 */display: inline-block !important;position: relative;}#sk-container-id-1 div.sk-text-repr-fallback {display: none;}</style><div id=\"sk-container-id-1\" class=\"sk-top-container\"><div class=\"sk-text-repr-fallback\"><pre>KNeighborsClassifier(n_neighbors=1)</pre><b>In a Jupyter environment, please rerun this cell to show the HTML representation or trust the notebook. <br />On GitHub, the HTML representation is unable to render, please try loading this page with nbviewer.org.</b></div><div class=\"sk-container\" hidden><div class=\"sk-item\"><div class=\"sk-estimator sk-toggleable\"><input class=\"sk-toggleable__control sk-hidden--visually\" id=\"sk-estimator-id-1\" type=\"checkbox\" checked><label for=\"sk-estimator-id-1\" class=\"sk-toggleable__label sk-toggleable__label-arrow\">KNeighborsClassifier</label><div class=\"sk-toggleable__content\"><pre>KNeighborsClassifier(n_neighbors=1)</pre></div></div></div></div></div>"
     },
     "execution_count": 6,
     "metadata": {},
     "output_type": "execute_result"
    }
   ],
   "source": [
    "knn = KNeighborsClassifier(n_neighbors=1)\n",
    "#knn.fit(X, y)\n",
    "knn.fit(X_train, y_train)"
   ],
   "metadata": {
    "collapsed": false,
    "ExecuteTime": {
     "end_time": "2023-12-13T17:36:13.164331Z",
     "start_time": "2023-12-13T17:36:13.057719Z"
    }
   }
  },
  {
   "cell_type": "code",
   "execution_count": 9,
   "outputs": [
    {
     "name": "stdout",
     "output_type": "stream",
     "text": [
      "[8 1 9 ... 3 0 9]\n"
     ]
    }
   ],
   "source": [
    "y_pred = knn.predict(X_test.to_numpy())\n",
    "print(y_pred)"
   ],
   "metadata": {
    "collapsed": false,
    "ExecuteTime": {
     "end_time": "2023-12-13T17:37:19.461433Z",
     "start_time": "2023-12-13T17:37:14.080023Z"
    }
   }
  },
  {
   "cell_type": "markdown",
   "source": [
    "### Evaluation"
   ],
   "metadata": {
    "collapsed": false
   }
  },
  {
   "cell_type": "code",
   "execution_count": 24,
   "outputs": [
    {
     "name": "stdout",
     "output_type": "stream",
     "text": [
      "              precision    recall  f1-score   support\n",
      "\n",
      "           0       0.98      0.99      0.99       816\n",
      "           1       0.97      1.00      0.98       909\n",
      "           2       0.98      0.95      0.97       846\n",
      "           3       0.97      0.96      0.96       937\n",
      "           4       0.98      0.97      0.97       839\n",
      "           5       0.96      0.96      0.96       702\n",
      "           6       0.98      0.99      0.98       785\n",
      "           7       0.96      0.97      0.96       893\n",
      "           8       0.98      0.94      0.96       835\n",
      "           9       0.94      0.96      0.95       838\n",
      "\n",
      "    accuracy                           0.97      8400\n",
      "   macro avg       0.97      0.97      0.97      8400\n",
      "weighted avg       0.97      0.97      0.97      8400\n",
      "\n"
     ]
    }
   ],
   "source": [
    "print(classification_report(y_test, y_pred))"
   ],
   "metadata": {
    "collapsed": false,
    "ExecuteTime": {
     "end_time": "2023-12-13T11:30:59.028435Z",
     "start_time": "2023-12-13T11:30:59.001434Z"
    }
   }
  },
  {
   "cell_type": "markdown",
   "source": [
    "### Test model"
   ],
   "metadata": {
    "collapsed": false
   }
  },
  {
   "cell_type": "code",
   "execution_count": 42,
   "outputs": [
    {
     "name": "stdout",
     "output_type": "stream",
     "text": [
      "The digit is 7\n"
     ]
    },
    {
     "data": {
      "text/plain": "<Figure size 640x480 with 1 Axes>",
      "image/png": "[encoded data removed]"
     },
     "metadata": {},
     "output_type": "display_data"
    }
   ],
   "source": [
    "plt.imshow(X_test.iloc[1200].values.reshape(28, 28), cmap=\"gray\")\n",
    "print(f'The digit is {y_pred[1200]}')"
   ],
   "metadata": {
    "collapsed": false,
    "ExecuteTime": {
     "end_time": "2023-12-13T11:41:06.489799Z",
     "start_time": "2023-12-13T11:41:06.416489Z"
    }
   }
  },
  {
   "cell_type": "markdown",
   "source": [
    "## CNN"
   ],
   "metadata": {
    "collapsed": false
   }
  },
  {
   "cell_type": "markdown",
   "source": [
    "### Processing data"
   ],
   "metadata": {
    "collapsed": false
   }
  },
  {
   "cell_type": "code",
   "execution_count": 26,
   "outputs": [],
   "source": [
    "X_train_norm = X_train / 255\n",
    "X_test_norm = X_test / 255"
   ],
   "metadata": {
    "collapsed": false,
    "ExecuteTime": {
     "end_time": "2023-12-13T11:31:06.196775Z",
     "start_time": "2023-12-13T11:31:06.057784Z"
    }
   }
  },
  {
   "cell_type": "code",
   "execution_count": 36,
   "outputs": [],
   "source": [
    "n_classes = 10\n",
    "\n",
    "Y_train = to_categorical(y_train, n_classes)\n",
    "Y_test = to_categorical(y_test, n_classes)"
   ],
   "metadata": {
    "collapsed": false,
    "ExecuteTime": {
     "end_time": "2023-12-13T11:36:10.378617Z",
     "start_time": "2023-12-13T11:36:10.359616Z"
    }
   }
  },
  {
   "cell_type": "markdown",
   "source": [
    "### Define Model"
   ],
   "metadata": {
    "collapsed": false
   }
  },
  {
   "cell_type": "code",
   "execution_count": 38,
   "outputs": [
    {
     "name": "stdout",
     "output_type": "stream",
     "text": [
      "Model: \"sequential_1\"\n",
      "_________________________________________________________________\n",
      " Layer (type)                Output Shape              Param #   \n",
      "=================================================================\n",
      " dense_2 (Dense)             (None, 100)               78500     \n",
      "                                                                 \n",
      " dense_3 (Dense)             (None, 10)                1010      \n",
      "                                                                 \n",
      "=================================================================\n",
      "Total params: 79510 (310.59 KB)\n",
      "Trainable params: 79510 (310.59 KB)\n",
      "Non-trainable params: 0 (0.00 Byte)\n",
      "_________________________________________________________________\n"
     ]
    }
   ],
   "source": [
    "model = Sequential()\n",
    "# hidden layer\n",
    "model.add(Dense(100, input_shape=(784,), activation='relu'))\n",
    "# output layer\n",
    "model.add(Dense(10, activation='softmax'))\n",
    "\n",
    "model.summary()"
   ],
   "metadata": {
    "collapsed": false,
    "ExecuteTime": {
     "end_time": "2023-12-13T11:38:33.620269Z",
     "start_time": "2023-12-13T11:38:33.583232Z"
    }
   }
  },
  {
   "cell_type": "markdown",
   "source": [
    "### Train model"
   ],
   "metadata": {
    "collapsed": false
   }
  },
  {
   "cell_type": "code",
   "execution_count": 39,
   "outputs": [
    {
     "name": "stdout",
     "output_type": "stream",
     "text": [
      "Epoch 1/10\n",
      "525/525 [==============================] - 1s 825us/step - loss: 0.3799 - accuracy: 0.8955 - val_loss: 0.2267 - val_accuracy: 0.9338\n",
      "Epoch 2/10\n",
      "525/525 [==============================] - 0s 687us/step - loss: 0.1815 - accuracy: 0.9480 - val_loss: 0.1667 - val_accuracy: 0.9512\n",
      "Epoch 3/10\n",
      "525/525 [==============================] - 0s 665us/step - loss: 0.1330 - accuracy: 0.9629 - val_loss: 0.1414 - val_accuracy: 0.9592\n",
      "Epoch 4/10\n",
      "525/525 [==============================] - 0s 692us/step - loss: 0.1044 - accuracy: 0.9707 - val_loss: 0.1244 - val_accuracy: 0.9642\n",
      "Epoch 5/10\n",
      "525/525 [==============================] - 0s 718us/step - loss: 0.0859 - accuracy: 0.9750 - val_loss: 0.1169 - val_accuracy: 0.9650\n",
      "Epoch 6/10\n",
      "525/525 [==============================] - 0s 818us/step - loss: 0.0700 - accuracy: 0.9796 - val_loss: 0.1095 - val_accuracy: 0.9661\n",
      "Epoch 7/10\n",
      "525/525 [==============================] - 0s 866us/step - loss: 0.0580 - accuracy: 0.9837 - val_loss: 0.1053 - val_accuracy: 0.9679\n",
      "Epoch 8/10\n",
      "525/525 [==============================] - 0s 673us/step - loss: 0.0487 - accuracy: 0.9867 - val_loss: 0.1057 - val_accuracy: 0.9673\n",
      "Epoch 9/10\n",
      "525/525 [==============================] - 0s 757us/step - loss: 0.0409 - accuracy: 0.9886 - val_loss: 0.1029 - val_accuracy: 0.9695\n",
      "Epoch 10/10\n",
      "525/525 [==============================] - 0s 695us/step - loss: 0.0341 - accuracy: 0.9907 - val_loss: 0.0970 - val_accuracy: 0.9705\n"
     ]
    },
    {
     "data": {
      "text/plain": "<keras.src.callbacks.History at 0x286f76c10>"
     },
     "execution_count": 39,
     "metadata": {},
     "output_type": "execute_result"
    }
   ],
   "source": [
    "model.compile(loss='categorical_crossentropy', metrics=['accuracy'], optimizer='adam')\n",
    "model.fit(X_train_norm, Y_train, batch_size=64, epochs=10, validation_data=(X_test_norm, Y_test))"
   ],
   "metadata": {
    "collapsed": false,
    "ExecuteTime": {
     "end_time": "2023-12-13T11:39:22.590735Z",
     "start_time": "2023-12-13T11:39:18.421849Z"
    }
   }
  },
  {
   "cell_type": "markdown",
   "source": [
    "> CNN achieves an incredible accuracy of 99.07%"
   ],
   "metadata": {
    "collapsed": false
   }
  },
  {
   "cell_type": "markdown",
   "source": [
    "### Test model"
   ],
   "metadata": {
    "collapsed": false
   }
  },
  {
   "cell_type": "code",
   "execution_count": 46,
   "outputs": [
    {
     "name": "stdout",
     "output_type": "stream",
     "text": [
      "263/263 [==============================] - 0s 324us/step\n",
      "The digit is 8\n"
     ]
    },
    {
     "data": {
      "text/plain": "<Figure size 640x480 with 1 Axes>",
      "image/png": "[encoded data removed]"
     },
     "metadata": {},
     "output_type": "display_data"
    }
   ],
   "source": [
    "y_pred_cnn = model.predict(X_test)\n",
    "plt.imshow(X_test.iloc[1900].values.reshape(28, 28), cmap=\"gray\")\n",
    "print(f'The digit is {np.argmax(y_pred_cnn[1900])}')"
   ],
   "metadata": {
    "collapsed": false,
    "ExecuteTime": {
     "end_time": "2023-12-13T11:41:54.592674Z",
     "start_time": "2023-12-13T11:41:54.361955Z"
    }
   }
  },
  {
   "cell_type": "markdown",
   "source": [
    "# Dog breed"
   ],
   "metadata": {
    "collapsed": false
   }
  },
  {
   "cell_type": "code",
   "execution_count": 40,
   "outputs": [],
   "source": [
    "train_path = \"../Assignment 1/dog-breed-identification/train/\"\n",
    "labels_path = \"../Assignment 1/dog-breed-identification/labels.csv\"\n",
    "img_size = [64, 64, 3]"
   ],
   "metadata": {
    "collapsed": false,
    "ExecuteTime": {
     "end_time": "2023-12-13T18:06:10.940242Z",
     "start_time": "2023-12-13T18:06:10.938441Z"
    }
   }
  },
  {
   "cell_type": "code",
   "execution_count": 63,
   "outputs": [
    {
     "name": "stdout",
     "output_type": "stream",
     "text": [
      "The number of images in the train folder is:    10222\r\n",
      "The number of images in the test folder is:    10357\r\n"
     ]
    }
   ],
   "source": [
    "!echo \"The number of images in the train folder is: $(ls dog-breed-identification/train/*.jpg | wc -l)\"\n",
    "!echo \"The number of images in the test folder is: $(ls dog-breed-identification/test/*.jpg | wc -l)\""
   ],
   "metadata": {
    "collapsed": false,
    "ExecuteTime": {
     "end_time": "2023-12-13T14:53:04.715689Z",
     "start_time": "2023-12-13T14:53:03.105174Z"
    }
   }
  },
  {
   "cell_type": "markdown",
   "source": [
    "## Data import"
   ],
   "metadata": {
    "collapsed": false
   }
  },
  {
   "cell_type": "code",
   "execution_count": 11,
   "outputs": [],
   "source": [
    "labels_master = pd.read_csv(\"../Assignment 1/dog-breed-identification/labels.csv\")\n",
    "labels = labels_master.copy()"
   ],
   "metadata": {
    "collapsed": false,
    "ExecuteTime": {
     "end_time": "2023-12-13T17:37:49.113111Z",
     "start_time": "2023-12-13T17:37:49.102693Z"
    }
   }
  },
  {
   "cell_type": "code",
   "execution_count": 64,
   "outputs": [
    {
     "data": {
      "text/plain": "10222"
     },
     "execution_count": 64,
     "metadata": {},
     "output_type": "execute_result"
    }
   ],
   "source": [
    "len(labels)"
   ],
   "metadata": {
    "collapsed": false,
    "ExecuteTime": {
     "end_time": "2023-12-13T14:59:46.257320Z",
     "start_time": "2023-12-13T14:59:46.211728Z"
    }
   }
  },
  {
   "cell_type": "code",
   "execution_count": 13,
   "outputs": [
    {
     "data": {
      "text/plain": "                                 id             breed\n0  000bec180eb18c7604dcecc8fe0dba07       boston_bull\n1  001513dfcb2ffafc82cccf4d8bbaba97             dingo\n2  001cdf01b096e06d78e9e5112d419397          pekinese\n3  00214f311d5d2247d5dfe4fe24b2303d          bluetick\n4  0021f9ceb3235effd7fcde7f7538ed62  golden_retriever",
      "text/html": "<div>\n<style scoped>\n    .dataframe tbody tr th:only-of-type {\n        vertical-align: middle;\n    }\n\n    .dataframe tbody tr th {\n        vertical-align: top;\n    }\n\n    .dataframe thead th {\n        text-align: right;\n    }\n</style>\n<table border=\"1\" class=\"dataframe\">\n  <thead>\n    <tr style=\"text-align: right;\">\n      <th></th>\n      <th>id</th>\n      <th>breed</th>\n    </tr>\n  </thead>\n  <tbody>\n    <tr>\n      <th>0</th>\n      <td>000bec180eb18c7604dcecc8fe0dba07</td>\n      <td>boston_bull</td>\n    </tr>\n    <tr>\n      <th>1</th>\n      <td>001513dfcb2ffafc82cccf4d8bbaba97</td>\n      <td>dingo</td>\n    </tr>\n    <tr>\n      <th>2</th>\n      <td>001cdf01b096e06d78e9e5112d419397</td>\n      <td>pekinese</td>\n    </tr>\n    <tr>\n      <th>3</th>\n      <td>00214f311d5d2247d5dfe4fe24b2303d</td>\n      <td>bluetick</td>\n    </tr>\n    <tr>\n      <th>4</th>\n      <td>0021f9ceb3235effd7fcde7f7538ed62</td>\n      <td>golden_retriever</td>\n    </tr>\n  </tbody>\n</table>\n</div>"
     },
     "execution_count": 13,
     "metadata": {},
     "output_type": "execute_result"
    }
   ],
   "source": [
    "labels.head()"
   ],
   "metadata": {
    "collapsed": false,
    "ExecuteTime": {
     "end_time": "2023-12-13T17:21:03.786635Z",
     "start_time": "2023-12-13T17:21:03.779823Z"
    }
   }
  },
  {
   "cell_type": "code",
   "execution_count": 15,
   "outputs": [
    {
     "data": {
      "text/plain": "              breed                                               path\n0       boston_bull  ../Assignment 1/dog-breed-identification/train...\n1             dingo  ../Assignment 1/dog-breed-identification/train...\n2          pekinese  ../Assignment 1/dog-breed-identification/train...\n3          bluetick  ../Assignment 1/dog-breed-identification/train...\n4  golden_retriever  ../Assignment 1/dog-breed-identification/train...",
      "text/html": "<div>\n<style scoped>\n    .dataframe tbody tr th:only-of-type {\n        vertical-align: middle;\n    }\n\n    .dataframe tbody tr th {\n        vertical-align: top;\n    }\n\n    .dataframe thead th {\n        text-align: right;\n    }\n</style>\n<table border=\"1\" class=\"dataframe\">\n  <thead>\n    <tr style=\"text-align: right;\">\n      <th></th>\n      <th>breed</th>\n      <th>path</th>\n    </tr>\n  </thead>\n  <tbody>\n    <tr>\n      <th>0</th>\n      <td>boston_bull</td>\n      <td>../Assignment 1/dog-breed-identification/train...</td>\n    </tr>\n    <tr>\n      <th>1</th>\n      <td>dingo</td>\n      <td>../Assignment 1/dog-breed-identification/train...</td>\n    </tr>\n    <tr>\n      <th>2</th>\n      <td>pekinese</td>\n      <td>../Assignment 1/dog-breed-identification/train...</td>\n    </tr>\n    <tr>\n      <th>3</th>\n      <td>bluetick</td>\n      <td>../Assignment 1/dog-breed-identification/train...</td>\n    </tr>\n    <tr>\n      <th>4</th>\n      <td>golden_retriever</td>\n      <td>../Assignment 1/dog-breed-identification/train...</td>\n    </tr>\n  </tbody>\n</table>\n</div>"
     },
     "execution_count": 15,
     "metadata": {},
     "output_type": "execute_result"
    }
   ],
   "source": [
    "labels[\"path\"] = train_path + labels.id + \".jpg\"\n",
    "labels.drop(\"id\", axis=1, inplace=True)\n",
    "labels.head()"
   ],
   "metadata": {
    "collapsed": false,
    "ExecuteTime": {
     "end_time": "2023-12-13T17:38:01.289803Z",
     "start_time": "2023-12-13T17:38:01.276147Z"
    }
   }
  },
  {
   "cell_type": "code",
   "execution_count": 16,
   "outputs": [],
   "source": [
    "breeds = sorted(labels[\"breed\"].unique().tolist())\n",
    "#len(breeds)\n",
    "class_to_num = dict(zip(breeds, range(len(breeds))))"
   ],
   "metadata": {
    "collapsed": false,
    "ExecuteTime": {
     "end_time": "2023-12-13T17:38:09.129033Z",
     "start_time": "2023-12-13T17:38:09.124583Z"
    }
   }
  },
  {
   "cell_type": "code",
   "execution_count": 30,
   "outputs": [],
   "source": [
    "def image_processing(data: pd.DataFrame, image_size: tuple):\n",
    "    X = np.zeros(\n",
    "        [len(data), image_size[0], image_size[1], image_size[2]],\n",
    "        dtype=np.uint8,\n",
    "    )\n",
    "    y = np.zeros([len(data), 1], dtype=np.uint8)\n",
    "    for idx, row in tqdm(data.iterrows()):\n",
    "        img_pixels = load_img(row[\"path\"], target_size=image_size)\n",
    "        X[idx] = img_pixels\n",
    "        y[idx] = class_to_num[row[\"breed\"]]\n",
    "    return X, y"
   ],
   "metadata": {
    "collapsed": false,
    "ExecuteTime": {
     "end_time": "2023-12-13T17:49:50.571905Z",
     "start_time": "2023-12-13T17:49:50.566117Z"
    }
   }
  },
  {
   "cell_type": "code",
   "execution_count": 31,
   "outputs": [
    {
     "name": "stderr",
     "output_type": "stream",
     "text": [
      "10222it [00:16, 629.71it/s]\n"
     ]
    }
   ],
   "source": [
    "X, y = image_processing(labels, img_size)"
   ],
   "metadata": {
    "collapsed": false,
    "ExecuteTime": {
     "end_time": "2023-12-13T17:50:08.118268Z",
     "start_time": "2023-12-13T17:49:51.881964Z"
    }
   }
  },
  {
   "cell_type": "code",
   "execution_count": 22,
   "outputs": [
    {
     "data": {
      "text/plain": "array([[[153,  91,  40],\n        [182, 127,  73],\n        [172, 123,  67],\n        ...,\n        [204, 182,  60],\n        [188, 156,  83],\n        [189, 157,  84]],\n\n       [[189, 136,  94],\n        [142,  95,  51],\n        [148, 108,  59],\n        ...,\n        [238, 211, 104],\n        [224, 192, 105],\n        [194, 162,  75]],\n\n       [[111,  70,  38],\n        [ 99,  61,  25],\n        [194, 160, 123],\n        ...,\n        [229, 194, 110],\n        [227, 192,  88],\n        [212, 177,  73]],\n\n       ...,\n\n       [[186, 119,  66],\n        [183, 116,  63],\n        [189, 123,  71],\n        ...,\n        [186, 134,  86],\n        [229, 175, 128],\n        [221, 167, 120]],\n\n       [[186, 119,  66],\n        [184, 117,  64],\n        [190, 124,  72],\n        ...,\n        [163, 101,  62],\n        [214, 161, 109],\n        [212, 159, 107]],\n\n       [[181, 114,  61],\n        [186, 119,  66],\n        [191, 125,  73],\n        ...,\n        [132,  63,  30],\n        [180, 128,  70],\n        [190, 138,  80]]], dtype=uint8)"
     },
     "execution_count": 22,
     "metadata": {},
     "output_type": "execute_result"
    }
   ],
   "source": [
    "X[0]"
   ],
   "metadata": {
    "collapsed": false,
    "ExecuteTime": {
     "end_time": "2023-12-13T17:39:28.844572Z",
     "start_time": "2023-12-13T17:39:28.840486Z"
    }
   }
  },
  {
   "cell_type": "code",
   "execution_count": 59,
   "outputs": [
    {
     "data": {
      "text/plain": "<PIL.Image.Image image mode=RGB size=64x64>",
      "image/png": "[encoded data removed]",
      "image/jpeg": "[encoded data removed]"
     },
     "execution_count": 59,
     "metadata": {},
     "output_type": "execute_result"
    }
   ],
   "source": [
    "img = load_img(\"../Assignment 1/dog-breed-identification/train/0a0c223352985ec154fd604d7ddceabd.jpg\", target_size=img_size)\n",
    "img"
   ],
   "metadata": {
    "collapsed": false,
    "ExecuteTime": {
     "end_time": "2023-12-13T18:27:10.444546Z",
     "start_time": "2023-12-13T18:27:10.433104Z"
    }
   }
  },
  {
   "cell_type": "code",
   "execution_count": 64,
   "outputs": [],
   "source": [
    "array_test = img_to_array(img, dtype=np.uint8)"
   ],
   "metadata": {
    "collapsed": false,
    "ExecuteTime": {
     "end_time": "2023-12-13T18:27:56.845158Z",
     "start_time": "2023-12-13T18:27:56.839581Z"
    }
   }
  },
  {
   "cell_type": "code",
   "execution_count": 76,
   "outputs": [
    {
     "data": {
      "text/plain": "array([[110,  70,  70, ..., 142, 136, 140]], dtype=uint8)"
     },
     "execution_count": 76,
     "metadata": {},
     "output_type": "execute_result"
    }
   ],
   "source": [
    "array_img = img_to_array(img, dtype=np.uint8)\n",
    "array_img_t = array_img.flatten()\n",
    "array_img_t = array_img_t.reshape(1,-1)\n",
    "array_img_t\n",
    "#array_img.flatten().shape"
   ],
   "metadata": {
    "collapsed": false,
    "ExecuteTime": {
     "end_time": "2023-12-13T19:13:05.886381Z",
     "start_time": "2023-12-13T19:13:05.878202Z"
    }
   }
  },
  {
   "cell_type": "code",
   "execution_count": 79,
   "outputs": [
    {
     "data": {
      "text/plain": "(1, 12288)"
     },
     "execution_count": 79,
     "metadata": {},
     "output_type": "execute_result"
    }
   ],
   "source": [
    "array_img_t.shape"
   ],
   "metadata": {
    "collapsed": false,
    "ExecuteTime": {
     "end_time": "2023-12-13T19:13:20.541762Z",
     "start_time": "2023-12-13T19:13:20.533434Z"
    }
   }
  },
  {
   "cell_type": "code",
   "execution_count": 80,
   "outputs": [
    {
     "data": {
      "text/plain": "   pixel0  pixel1  pixel2  pixel3  pixel4  pixel5  pixel6  pixel7  pixel8  \\\n0     110      70      70     115      75      75     121      81      81   \n\n   pixel9  ...  pixel12278  pixel12279  pixel12280  pixel12281  pixel12282  \\\n0     131  ...         190         109         106         115         144   \n\n   pixel12283  pixel12284  pixel12285  pixel12286  pixel12287  \n0         142         147         142         136         140  \n\n[1 rows x 12288 columns]",
      "text/html": "<div>\n<style scoped>\n    .dataframe tbody tr th:only-of-type {\n        vertical-align: middle;\n    }\n\n    .dataframe tbody tr th {\n        vertical-align: top;\n    }\n\n    .dataframe thead th {\n        text-align: right;\n    }\n</style>\n<table border=\"1\" class=\"dataframe\">\n  <thead>\n    <tr style=\"text-align: right;\">\n      <th></th>\n      <th>pixel0</th>\n      <th>pixel1</th>\n      <th>pixel2</th>\n      <th>pixel3</th>\n      <th>pixel4</th>\n      <th>pixel5</th>\n      <th>pixel6</th>\n      <th>pixel7</th>\n      <th>pixel8</th>\n      <th>pixel9</th>\n      <th>...</th>\n      <th>pixel12278</th>\n      <th>pixel12279</th>\n      <th>pixel12280</th>\n      <th>pixel12281</th>\n      <th>pixel12282</th>\n      <th>pixel12283</th>\n      <th>pixel12284</th>\n      <th>pixel12285</th>\n      <th>pixel12286</th>\n      <th>pixel12287</th>\n    </tr>\n  </thead>\n  <tbody>\n    <tr>\n      <th>0</th>\n      <td>110</td>\n      <td>70</td>\n      <td>70</td>\n      <td>115</td>\n      <td>75</td>\n      <td>75</td>\n      <td>121</td>\n      <td>81</td>\n      <td>81</td>\n      <td>131</td>\n      <td>...</td>\n      <td>190</td>\n      <td>109</td>\n      <td>106</td>\n      <td>115</td>\n      <td>144</td>\n      <td>142</td>\n      <td>147</td>\n      <td>142</td>\n      <td>136</td>\n      <td>140</td>\n    </tr>\n  </tbody>\n</table>\n<p>1 rows × 12288 columns</p>\n</div>"
     },
     "execution_count": 80,
     "metadata": {},
     "output_type": "execute_result"
    }
   ],
   "source": [
    "column_names = [f'pixel{num}' for num in range(array_img_t.shape[1])]\n",
    "df_image = pd.DataFrame(array_img_t, columns=column_names)\n",
    "\n",
    "df_image.head()"
   ],
   "metadata": {
    "collapsed": false,
    "ExecuteTime": {
     "end_time": "2023-12-13T19:13:22.381990Z",
     "start_time": "2023-12-13T19:13:22.378397Z"
    }
   }
  },
  {
   "cell_type": "code",
   "execution_count": 88,
   "outputs": [
    {
     "data": {
      "text/plain": "   pixel0  pixel1  pixel2  pixel3  pixel4  pixel5  pixel6  pixel7  pixel8  \\\n0     110      70      70     115      75      75     121      81      81   \n\n   pixel9  ...  pixel12279  pixel12280  pixel12281  pixel12282  pixel12283  \\\n0     131  ...         109         106         115         144         142   \n\n   pixel12284  pixel12285  pixel12286  pixel12287   label  \n0         147         142         136         140  kuvasz  \n\n[1 rows x 12289 columns]",
      "text/html": "<div>\n<style scoped>\n    .dataframe tbody tr th:only-of-type {\n        vertical-align: middle;\n    }\n\n    .dataframe tbody tr th {\n        vertical-align: top;\n    }\n\n    .dataframe thead th {\n        text-align: right;\n    }\n</style>\n<table border=\"1\" class=\"dataframe\">\n  <thead>\n    <tr style=\"text-align: right;\">\n      <th></th>\n      <th>pixel0</th>\n      <th>pixel1</th>\n      <th>pixel2</th>\n      <th>pixel3</th>\n      <th>pixel4</th>\n      <th>pixel5</th>\n      <th>pixel6</th>\n      <th>pixel7</th>\n      <th>pixel8</th>\n      <th>pixel9</th>\n      <th>...</th>\n      <th>pixel12279</th>\n      <th>pixel12280</th>\n      <th>pixel12281</th>\n      <th>pixel12282</th>\n      <th>pixel12283</th>\n      <th>pixel12284</th>\n      <th>pixel12285</th>\n      <th>pixel12286</th>\n      <th>pixel12287</th>\n      <th>label</th>\n    </tr>\n  </thead>\n  <tbody>\n    <tr>\n      <th>0</th>\n      <td>110</td>\n      <td>70</td>\n      <td>70</td>\n      <td>115</td>\n      <td>75</td>\n      <td>75</td>\n      <td>121</td>\n      <td>81</td>\n      <td>81</td>\n      <td>131</td>\n      <td>...</td>\n      <td>109</td>\n      <td>106</td>\n      <td>115</td>\n      <td>144</td>\n      <td>142</td>\n      <td>147</td>\n      <td>142</td>\n      <td>136</td>\n      <td>140</td>\n      <td>kuvasz</td>\n    </tr>\n  </tbody>\n</table>\n<p>1 rows × 12289 columns</p>\n</div>"
     },
     "execution_count": 88,
     "metadata": {},
     "output_type": "execute_result"
    }
   ],
   "source": [
    "# Extract the filename without extension\n",
    "image_path = '../Assignment 1/dog-breed-identification/train/0a0c223352985ec154fd604d7ddceabd.jpg'\n",
    "\n",
    "# Find the corresponding label\n",
    "label = labels.loc[labels['path'] == image_path, 'breed'].values[0]\n",
    "\n",
    "# Add the label to the DataFrame\n",
    "df_image['label'] = label\n",
    "\n",
    "# Now df_image has the image data and the corresponding label\n",
    "df_image.head()"
   ],
   "metadata": {
    "collapsed": false,
    "ExecuteTime": {
     "end_time": "2023-12-13T19:21:42.133535Z",
     "start_time": "2023-12-13T19:21:42.121198Z"
    }
   }
  },
  {
   "cell_type": "code",
   "execution_count": null,
   "outputs": [],
   "source": [],
   "metadata": {
    "collapsed": false
   }
  },
  {
   "cell_type": "markdown",
   "source": [
    "## Splitting data"
   ],
   "metadata": {
    "collapsed": false
   }
  },
  {
   "cell_type": "code",
   "execution_count": null,
   "outputs": [],
   "source": [],
   "metadata": {
    "collapsed": false
   }
  },
  {
   "cell_type": "markdown",
   "source": [
    "## Traditional machine learning"
   ],
   "metadata": {
    "collapsed": false
   }
  },
  {
   "cell_type": "code",
   "execution_count": null,
   "outputs": [],
   "source": [],
   "metadata": {
    "collapsed": false
   }
  },
  {
   "cell_type": "markdown",
   "source": [
    "## CNN"
   ],
   "metadata": {
    "collapsed": false
   }
  },
  {
   "cell_type": "code",
   "execution_count": null,
   "outputs": [],
   "source": [],
   "metadata": {
    "collapsed": false
   }
  }
 ],
 "metadata": {
  "kernelspec": {
   "display_name": "Python 3",
   "language": "python",
   "name": "python3"
  },
  "language_info": {
   "codemirror_mode": {
    "name": "ipython",
    "version": 2
   },
   "file_extension": ".py",
   "mimetype": "text/x-python",
   "name": "python",
   "nbconvert_exporter": "python",
   "pygments_lexer": "ipython2",
   "version": "2.7.6"
  }
 },
 "nbformat": 4,
 "nbformat_minor": 0
}
